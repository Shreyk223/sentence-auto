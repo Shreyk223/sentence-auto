{
  "cells": [
    {
      "cell_type": "markdown",
      "metadata": {
        "id": "CqQqV7RnKVZ_"
      },
      "source": [
        "**Project Topic:** **Sentence Autocompletion using NLP and Deep Learning in Machine Learning**"
      ]
    },
    {
      "cell_type": "markdown",
      "metadata": {
        "id": "q33SdWcIKVVV"
      },
      "source": [
        "**Project Overview:**\n",
        "The project aims to develop a machine learning system that can predict\n",
        "and generate the next words or phrases in each sentence using natural\n",
        "language processing (NLP) techniques. The system will utilize deep\n",
        "learning algorithms to analyse and understand the context of the input\n",
        "sentence and provide accurate and contextually relevant suggestions for\n",
        "completing the sentence."
      ]
    },
    {
      "cell_type": "markdown",
      "metadata": {
        "id": "dc9w14HAKVPz"
      },
      "source": [
        "**LSTM MODEL:** LSTMs are long short-term memory networks that use (ANN) artificial neural networks in the field of artificial intelligence (AI) and deep learning. In contrast to normal feed-forward neural networks, also known as recurrent neural networks, these networks feature feedback connections."
      ]
    },
    {
      "cell_type": "markdown",
      "metadata": {
        "id": "yjLmqdueKVBu"
      },
      "source": [
        "**GRU (Gated Recurrent Unit) Model:**\n",
        "GRU is a type of recurrent neural network (RNN) architecture.\n",
        "It is designed to address the vanishing gradient problem that occurs in traditional RNNs.\n",
        "GRU cells have two gates: an update gate and a reset gate.\n",
        "The update gate controls how much of the previous hidden state should be retained, while the reset gate determines how much of the new input should be incorporated.\n",
        "GRUs are computationally efficient and perform well on sequence-based tasks."
      ]
    },
    {
      "cell_type": "markdown",
      "metadata": {
        "id": "db3Ml8_kKUc5"
      },
      "source": [
        "**CNN (Convolutional Neural Network) Model:**\n",
        "CNNs are primarily used for image recognition and computer vision tasks.\n",
        "They consist of convolutional layers that apply filters (kernels) to input data, capturing local patterns.\n",
        "CNNs automatically learn hierarchical features from raw pixel values.\n",
        "Max-pooling layers downsample the feature maps, reducing spatial dimensions.\n",
        "Fully connected layers at the end of the network make predictions based on the learned features."
      ]
    },
    {
      "cell_type": "markdown",
      "metadata": {
        "id": "81UW8wASXP6i"
      },
      "source": [
        "**SimpleRNN**: SimpleRNN (Simple Recurrent Neural Network) is a type of recurrent neural network (RNN) architecture that is used for sequential data processing tasks. Unlike more complex RNN variants like LSTM (Long Short-Term Memory) and GRU (Gated Recurrent Unit), SimpleRNN has a simpler architecture and is computationally less expensive."
      ]
    },
    {
      "cell_type": "markdown",
      "metadata": {
        "id": "fFnp79fvLtMs"
      },
      "source": [
        "#The flow of program:\n",
        "\n",
        "1. Loading data\n",
        "2. Preprocessing the data and Tokenizing\n",
        "3. Building and fitting the model on data\n",
        "4. Evaluate the model\n",
        "5. Predicting(Generating the text)\n",
        "6. Saving the model for future applicaitons"
      ]
    },
    {
      "cell_type": "markdown",
      "metadata": {
        "id": "bYO_lFt9MRay"
      },
      "source": [
        "**Importing Libraries**"
      ]
    },
    {
      "cell_type": "code",
      "execution_count": null,
      "metadata": {
        "id": "sgy4JfOO2-HB"
      },
      "outputs": [],
      "source": [
        "# Importing necessary libraries\n",
        "import tensorflow as tf\n",
        "import pandas as pd\n",
        "import numpy as np\n",
        "import re\n",
        "import matplotlib.pyplot as plt\n",
        "from tensorflow.keras.preprocessing.text import Tokenizer\n",
        "from tensorflow.keras.preprocessing.sequence import pad_sequences\n",
        "from tensorflow.keras.layers import Input, Dense, Embedding, LSTM, GRU, Bidirectional, GlobalMaxPooling1D, Conv1D, MaxPooling1D, Flatten, Dropout, SimpleRNN\n",
        "from tensorflow.keras.models import Model, Sequential\n",
        "from tensorflow.keras.optimizers import Adam\n",
        "from tensorflow.keras.utils import to_categorical"
      ]
    },
    {
      "cell_type": "markdown",
      "metadata": {
        "id": "F6ArXtLKMXqZ"
      },
      "source": [
        "**Loading the data**"
      ]
    },
    {
      "cell_type": "code",
      "execution_count": null,
      "metadata": {
        "colab": {
          "base_uri": "https://localhost:8080/",
          "height": 73
        },
        "id": "HgDMPMrT3LUv",
        "outputId": "d6251a9c-6b48-4012-d14a-501ebf21d620"
      },
      "outputs": [
        {
          "output_type": "display_data",
          "data": {
            "text/plain": [
              "<IPython.core.display.HTML object>"
            ],
            "text/html": [
              "\n",
              "     <input type=\"file\" id=\"files-d1c05b17-b67e-4de8-b58f-d08c22469f5e\" name=\"files[]\" multiple disabled\n",
              "        style=\"border:none\" />\n",
              "     <output id=\"result-d1c05b17-b67e-4de8-b58f-d08c22469f5e\">\n",
              "      Upload widget is only available when the cell has been executed in the\n",
              "      current browser session. Please rerun this cell to enable.\n",
              "      </output>\n",
              "      <script>// Copyright 2017 Google LLC\n",
              "//\n",
              "// Licensed under the Apache License, Version 2.0 (the \"License\");\n",
              "// you may not use this file except in compliance with the License.\n",
              "// You may obtain a copy of the License at\n",
              "//\n",
              "//      http://www.apache.org/licenses/LICENSE-2.0\n",
              "//\n",
              "// Unless required by applicable law or agreed to in writing, software\n",
              "// distributed under the License is distributed on an \"AS IS\" BASIS,\n",
              "// WITHOUT WARRANTIES OR CONDITIONS OF ANY KIND, either express or implied.\n",
              "// See the License for the specific language governing permissions and\n",
              "// limitations under the License.\n",
              "\n",
              "/**\n",
              " * @fileoverview Helpers for google.colab Python module.\n",
              " */\n",
              "(function(scope) {\n",
              "function span(text, styleAttributes = {}) {\n",
              "  const element = document.createElement('span');\n",
              "  element.textContent = text;\n",
              "  for (const key of Object.keys(styleAttributes)) {\n",
              "    element.style[key] = styleAttributes[key];\n",
              "  }\n",
              "  return element;\n",
              "}\n",
              "\n",
              "// Max number of bytes which will be uploaded at a time.\n",
              "const MAX_PAYLOAD_SIZE = 100 * 1024;\n",
              "\n",
              "function _uploadFiles(inputId, outputId) {\n",
              "  const steps = uploadFilesStep(inputId, outputId);\n",
              "  const outputElement = document.getElementById(outputId);\n",
              "  // Cache steps on the outputElement to make it available for the next call\n",
              "  // to uploadFilesContinue from Python.\n",
              "  outputElement.steps = steps;\n",
              "\n",
              "  return _uploadFilesContinue(outputId);\n",
              "}\n",
              "\n",
              "// This is roughly an async generator (not supported in the browser yet),\n",
              "// where there are multiple asynchronous steps and the Python side is going\n",
              "// to poll for completion of each step.\n",
              "// This uses a Promise to block the python side on completion of each step,\n",
              "// then passes the result of the previous step as the input to the next step.\n",
              "function _uploadFilesContinue(outputId) {\n",
              "  const outputElement = document.getElementById(outputId);\n",
              "  const steps = outputElement.steps;\n",
              "\n",
              "  const next = steps.next(outputElement.lastPromiseValue);\n",
              "  return Promise.resolve(next.value.promise).then((value) => {\n",
              "    // Cache the last promise value to make it available to the next\n",
              "    // step of the generator.\n",
              "    outputElement.lastPromiseValue = value;\n",
              "    return next.value.response;\n",
              "  });\n",
              "}\n",
              "\n",
              "/**\n",
              " * Generator function which is called between each async step of the upload\n",
              " * process.\n",
              " * @param {string} inputId Element ID of the input file picker element.\n",
              " * @param {string} outputId Element ID of the output display.\n",
              " * @return {!Iterable<!Object>} Iterable of next steps.\n",
              " */\n",
              "function* uploadFilesStep(inputId, outputId) {\n",
              "  const inputElement = document.getElementById(inputId);\n",
              "  inputElement.disabled = false;\n",
              "\n",
              "  const outputElement = document.getElementById(outputId);\n",
              "  outputElement.innerHTML = '';\n",
              "\n",
              "  const pickedPromise = new Promise((resolve) => {\n",
              "    inputElement.addEventListener('change', (e) => {\n",
              "      resolve(e.target.files);\n",
              "    });\n",
              "  });\n",
              "\n",
              "  const cancel = document.createElement('button');\n",
              "  inputElement.parentElement.appendChild(cancel);\n",
              "  cancel.textContent = 'Cancel upload';\n",
              "  const cancelPromise = new Promise((resolve) => {\n",
              "    cancel.onclick = () => {\n",
              "      resolve(null);\n",
              "    };\n",
              "  });\n",
              "\n",
              "  // Wait for the user to pick the files.\n",
              "  const files = yield {\n",
              "    promise: Promise.race([pickedPromise, cancelPromise]),\n",
              "    response: {\n",
              "      action: 'starting',\n",
              "    }\n",
              "  };\n",
              "\n",
              "  cancel.remove();\n",
              "\n",
              "  // Disable the input element since further picks are not allowed.\n",
              "  inputElement.disabled = true;\n",
              "\n",
              "  if (!files) {\n",
              "    return {\n",
              "      response: {\n",
              "        action: 'complete',\n",
              "      }\n",
              "    };\n",
              "  }\n",
              "\n",
              "  for (const file of files) {\n",
              "    const li = document.createElement('li');\n",
              "    li.append(span(file.name, {fontWeight: 'bold'}));\n",
              "    li.append(span(\n",
              "        `(${file.type || 'n/a'}) - ${file.size} bytes, ` +\n",
              "        `last modified: ${\n",
              "            file.lastModifiedDate ? file.lastModifiedDate.toLocaleDateString() :\n",
              "                                    'n/a'} - `));\n",
              "    const percent = span('0% done');\n",
              "    li.appendChild(percent);\n",
              "\n",
              "    outputElement.appendChild(li);\n",
              "\n",
              "    const fileDataPromise = new Promise((resolve) => {\n",
              "      const reader = new FileReader();\n",
              "      reader.onload = (e) => {\n",
              "        resolve(e.target.result);\n",
              "      };\n",
              "      reader.readAsArrayBuffer(file);\n",
              "    });\n",
              "    // Wait for the data to be ready.\n",
              "    let fileData = yield {\n",
              "      promise: fileDataPromise,\n",
              "      response: {\n",
              "        action: 'continue',\n",
              "      }\n",
              "    };\n",
              "\n",
              "    // Use a chunked sending to avoid message size limits. See b/62115660.\n",
              "    let position = 0;\n",
              "    do {\n",
              "      const length = Math.min(fileData.byteLength - position, MAX_PAYLOAD_SIZE);\n",
              "      const chunk = new Uint8Array(fileData, position, length);\n",
              "      position += length;\n",
              "\n",
              "      const base64 = btoa(String.fromCharCode.apply(null, chunk));\n",
              "      yield {\n",
              "        response: {\n",
              "          action: 'append',\n",
              "          file: file.name,\n",
              "          data: base64,\n",
              "        },\n",
              "      };\n",
              "\n",
              "      let percentDone = fileData.byteLength === 0 ?\n",
              "          100 :\n",
              "          Math.round((position / fileData.byteLength) * 100);\n",
              "      percent.textContent = `${percentDone}% done`;\n",
              "\n",
              "    } while (position < fileData.byteLength);\n",
              "  }\n",
              "\n",
              "  // All done.\n",
              "  yield {\n",
              "    response: {\n",
              "      action: 'complete',\n",
              "    }\n",
              "  };\n",
              "}\n",
              "\n",
              "scope.google = scope.google || {};\n",
              "scope.google.colab = scope.google.colab || {};\n",
              "scope.google.colab._files = {\n",
              "  _uploadFiles,\n",
              "  _uploadFilesContinue,\n",
              "};\n",
              "})(self);\n",
              "</script> "
            ]
          },
          "metadata": {}
        },
        {
          "output_type": "stream",
          "name": "stdout",
          "text": [
            "Saving terrible_old_man.txt to terrible_old_man.txt\n"
          ]
        }
      ],
      "source": [
        "from google.colab import files\n",
        "uploaded = files.upload()"
      ]
    },
    {
      "cell_type": "code",
      "execution_count": null,
      "metadata": {
        "id": "XU-Lqors3Wou"
      },
      "outputs": [],
      "source": [
        "# reading the data from local google drive\n",
        "with open('terrible_old_man.txt') as story:\n",
        "  story_data = story.read()"
      ]
    },
    {
      "cell_type": "markdown",
      "metadata": {
        "id": "EJxU0g3ERcbp"
      },
      "source": [
        "**Data Preparation**"
      ]
    },
    {
      "cell_type": "code",
      "execution_count": null,
      "metadata": {
        "id": "tIOGQVrm3e7J"
      },
      "outputs": [],
      "source": [
        "# Data cleaning process\n",
        "def clean_text(text):\n",
        "  text = re.sub(r',', '', text)\n",
        "  text = re.sub(r'\\'', '',  text)\n",
        "  text = re.sub(r'\\\"', '', text)\n",
        "  text = re.sub(r'\\(', '', text)\n",
        "  text = re.sub(r'\\)', '', text)\n",
        "  text = re.sub(r'\\n', '', text)\n",
        "  text = re.sub(r'“', '', text)\n",
        "  text = re.sub(r'”', '', text)\n",
        "  text = re.sub(r'’', '', text)\n",
        "  text = re.sub(r'\\.', '', text)\n",
        "  text = re.sub(r';', '', text)\n",
        "  text = re.sub(r':', '', text)\n",
        "  text = re.sub(r'\\-', '', text)\n",
        "  text = re.sub(r'-','',text)\n",
        "  text = re.sub(r'!','',text)\n",
        "\n",
        "  return text"
      ]
    },
    {
      "cell_type": "code",
      "execution_count": null,
      "metadata": {
        "colab": {
          "base_uri": "https://localhost:8080/"
        },
        "id": "mcIke7vl3nxB",
        "outputId": "bc6fc1b2-b7ab-4a9a-8924-ef79d812c23f"
      },
      "outputs": [
        {
          "output_type": "stream",
          "name": "stdout",
          "text": [
            "['‘the terrible old man’ ', 'by h. p lovecraft ', 'it was the design of angelo ricci and joe czanek and manuel silva to call ', 'on the terrible old man. this old man dwells all alone in a very ancient ', 'house on water street near the sea, and is reputed to be both ', 'exceedingly rich and exceedingly feeble; which forms a situation very ', 'attractive to men of the profession of messrs. ricci, czanek, and silva, for ', 'that profession was nothing less dignified than robbery. ', 'the inhabitants of kingsport say and think many things about the terrible ', 'old man which generally keep him safe from the attention of gentlemen ', 'like mr. ricci and his colleagues, despite the almost certain fact that he ', 'hides a fortune of indefinite magnitude somewhere about his musty and ', 'venerable abode. he is, in truth, a very strange person, believed to have ', 'been a captain of east india clipper ships in his day; so old that no one ', 'can remember when he was young, and so taciturn that few know his real ', 'name. among the gnarled trees in the front yard of his aged and ', 'neglected place he maintains a strange collection of large stones, oddly ', 'grouped and painted so that they resemble the idols in some obscure ', 'eastern temple. this collection frightens away most of the small boys who ', 'love to taunt the terrible old man about his long white hair and beard, or ', 'to break the small-paned windows of his dwelling with wicked missiles; ', 'but there are other things which frighten the older and more curious folk ', 'who sometimes steal up to the house to peer in through the dusty panes. ', 'these folk say that on a table in a bare room on the ground floor are ', 'many peculiar bottles, in each a small piece of lead suspended pendulum', 'wise from a string. and they say that the terrible old man talks to these ', 'bottles, addressing them by such names as jack, scar-face, long tom, ', 'spanish joe, peters, and mate ellis, and that whenever he speaks to a ', 'bottle the little lead pendulum within makes certain definite vibrations as ', 'if in answer. ', 'those who have watched the tall, lean, terrible old man in these peculiar ', 'conversations, do not watch him again. but angelo ricci and joe czanek ', 'and manuel silva were not of kingsport blood; they were of that new and ', 'heterogeneous alien stock which lies outside the charmed circle of new ', 'england life and traditions, and they saw in the terrible old man merely a ', 'tottering, almost helpless grey-beard, who could not walk without the aid ', 'of his knotted cane, and whose thin, weak hands shook pitifully. they ', 'were really quite sorry in their way for the lonely, unpopular old fellow, ', 'whom everybody shunned, and at whom all the dogs barked singularly. ', 'but business is business, and to a robber whose soul is in his profession, ', 'there is a lure and a challenge about a very old and very feeble man who ', 'has no account at the bank, and who pays for his few necessities at the ', 'village store with spanish gold and silver minted two centuries ago. ', 'messrs. ricci, czanek, and silva selected the night of april 11th for their ', 'call. mr. ricci and mr. silva were to interview the poor old gentleman, ', 'whilst mr. czanek waited for them and their presumable metallic burden ', 'with a covered motor-car in ship street, by the gate in the tall rear wall ', 'of their hosts grounds. desire to avoid needless explanations in case of ', 'unexpected police intrusions prompted these plans for a quiet and ', 'unostentatious departure. ', 'as prearranged, the three adventurers started out separately in order to ', 'prevent any evil-minded suspicions afterward. messrs. ricci and silva met ', 'in water street by the old mans front gate, and although they did not like ', 'the way the moon shone down upon the painted stones through the ', 'budding branches of the gnarled trees, they had more important things to ', 'think about than mere idle superstition. they feared it might be ', 'unpleasant work making the terrible old man loquacious concerning his ', 'hoarded gold and silver, for aged sea-captains are notably stubborn and ', 'perverse. still, he was very old and very feeble, and there were two ', 'visitors. messrs. ricci and silva were experienced in the art of making ', 'unwilling persons voluble, and the screams of a weak and exceptionally ', 'venerable man can be easily muffled. so they moved up to the one ', 'lighted window and heard the terrible old man talking childishly to his ', 'bottles with pendulums. then they donned masks and knocked politely at ', 'the weather-stained oaken door. ', 'waiting seemed very long to mr. czanek as he fidgeted restlessly in the ', 'covered motor-car by the terrible old mans back gate in ship street. he ', 'was more than ordinarily tender-hearted, and he did not like the hideous ', 'screams he had heard in the ancient house just after the hour appointed ', 'for the deed. had he not told his colleagues to be as gentle as possible ', 'with the pathetic old sea-captain? very nervously he watched that narrow ', 'oaken gate in the high and ivy-clad stone wall. frequently he consulted ', 'his watch, and wondered at the delay. had the old man died before ', 'revealing where his treasure was hidden, and had a thorough search ', 'become necessary? mr. czanek did not like to wait so long in the dark in ', 'such a place. then he sensed a soft tread or tapping on the walk inside ', 'the gate, heard a gentle fumbling at the rusty latch, and saw the narrow, ', 'heavy door swing inward. and in the pallid glow of the single dim street', 'lamp he strained his eyes to see what his colleagues had brought out of ', 'that sinister house which loomed so close behind. but when he looked, he ', 'did not see what he had expected; for his colleagues were not there at all, ', 'but only the terrible old man leaning quietly on his knotted cane and ', 'smiling hideously. mr. czanek had never before noticed the colour of that ', 'mans eyes; now he saw that they were yellow. ', 'little things make considerable excitement in little towns, which is the ', 'reason that kingsport people talked all that spring and summer about the ', 'three unidentifiable bodies, horribly slashed as with many cutlasses, and ', 'horribly mangled as by the tread of many cruel boot-heels, which the tide ', 'washed in. and some people even spoke of things as trivial as the ', 'deserted motor-car found in ship street, or certain especially inhuman ', 'cries, probably of a stray animal or migratory bird, heard in the night by ', 'wakeful citizens. but in this idle village gossip the terrible old man took ', 'no interest at all. he was by nature reserved, and when one is aged and ', 'feeble, ones reserve is doubly strong. besides, so ancient a sea-captain ', 'must have witnessed scores of things much more stirring in the far-off ', 'days of his unremembered youth.']\n",
            "\n",
            "‘the terrible old man \n",
            "by h p lovecraft \n",
            "it was the design of angelo ricci and joe czanek and manuel silva to call \n",
            "on the terrible old man this old man dwells all alone in a very ancient \n",
            "house on water street near the sea and is reputed to be both \n",
            "exceedingly rich and exceedingly feeble which forms a situation very \n",
            "attractive to men of the profession of messrs ricci czanek and silva for \n",
            "that profession was nothing less dignified than robbery \n",
            "the inhabitants of kingsport say and think many things about the terrible \n",
            "old man which generally keep him safe from the attention of gentlemen \n",
            "like mr ricci and his colleagues despite the almost certain fact that he \n",
            "hides a fortune of indefinite magnitude somewhere about his musty and \n",
            "venerable abode he is in truth a very strange person believed to have \n",
            "been a captain of east india clipper ships in his day so old that no one \n",
            "can remember when he was young and so taciturn that few know his real \n",
            "name among the gnarled trees in the front yard of his aged and \n",
            "neglected place he maintains a strange collection of large stones oddly \n",
            "grouped and painted so that they resemble the idols in some obscure \n",
            "eastern temple this collection frightens away most of the small boys who \n",
            "love to taunt the terrible old man about his long white hair and beard or \n",
            "to break the smallpaned windows of his dwelling with wicked missiles \n",
            "but there are other things which frighten the older and more curious folk \n",
            "who sometimes steal up to the house to peer in through the dusty panes \n",
            "these folk say that on a table in a bare room on the ground floor are \n",
            "many peculiar bottles in each a small piece of lead suspended pendulum\n",
            "wise from a string and they say that the terrible old man talks to these \n",
            "bottles addressing them by such names as jack scarface long tom \n",
            "spanish joe peters and mate ellis and that whenever he speaks to a \n",
            "bottle the little lead pendulum within makes certain definite vibrations as \n",
            "if in answer \n",
            "those who have watched the tall lean terrible old man in these peculiar \n",
            "conversations do not watch him again but angelo ricci and joe czanek \n",
            "and manuel silva were not of kingsport blood they were of that new and \n",
            "heterogeneous alien stock which lies outside the charmed circle of new \n",
            "england life and traditions and they saw in the terrible old man merely a \n",
            "tottering almost helpless greybeard who could not walk without the aid \n",
            "of his knotted cane and whose thin weak hands shook pitifully they \n",
            "were really quite sorry in their way for the lonely unpopular old fellow \n",
            "whom everybody shunned and at whom all the dogs barked singularly \n",
            "but business is business and to a robber whose soul is in his profession \n",
            "there is a lure and a challenge about a very old and very feeble man who \n",
            "has no account at the bank and who pays for his few necessities at the \n",
            "village store with spanish gold and silver minted two centuries ago \n",
            "messrs ricci czanek and silva selected the night of april 11th for their \n",
            "call mr ricci and mr silva were to interview the poor old gentleman \n",
            "whilst mr czanek waited for them and their presumable metallic burden \n",
            "with a covered motorcar in ship street by the gate in the tall rear wall \n",
            "of their hosts grounds desire to avoid needless explanations in case of \n",
            "unexpected police intrusions prompted these plans for a quiet and \n",
            "unostentatious departure \n",
            "as prearranged the three adventurers started out separately in order to \n",
            "prevent any evilminded suspicions afterward messrs ricci and silva met \n",
            "in water street by the old mans front gate and although they did not like \n",
            "the way the moon shone down upon the painted stones through the \n",
            "budding branches of the gnarled trees they had more important things to \n",
            "think about than mere idle superstition they feared it might be \n",
            "unpleasant work making the terrible old man loquacious concerning his \n",
            "hoarded gold and silver for aged seacaptains are notably stubborn and \n",
            "perverse still he was very old and very feeble and there were two \n",
            "visitors messrs ricci and silva were experienced in the art of making \n",
            "unwilling persons voluble and the screams of a weak and exceptionally \n",
            "venerable man can be easily muffled so they moved up to the one \n",
            "lighted window and heard the terrible old man talking childishly to his \n",
            "bottles with pendulums then they donned masks and knocked politely at \n",
            "the weatherstained oaken door \n",
            "waiting seemed very long to mr czanek as he fidgeted restlessly in the \n",
            "covered motorcar by the terrible old mans back gate in ship street he \n",
            "was more than ordinarily tenderhearted and he did not like the hideous \n",
            "screams he had heard in the ancient house just after the hour appointed \n",
            "for the deed had he not told his colleagues to be as gentle as possible \n",
            "with the pathetic old seacaptain? very nervously he watched that narrow \n",
            "oaken gate in the high and ivyclad stone wall frequently he consulted \n",
            "his watch and wondered at the delay had the old man died before \n",
            "revealing where his treasure was hidden and had a thorough search \n",
            "become necessary? mr czanek did not like to wait so long in the dark in \n",
            "such a place then he sensed a soft tread or tapping on the walk inside \n",
            "the gate heard a gentle fumbling at the rusty latch and saw the narrow \n",
            "heavy door swing inward and in the pallid glow of the single dim street\n",
            "lamp he strained his eyes to see what his colleagues had brought out of \n",
            "that sinister house which loomed so close behind but when he looked he \n",
            "did not see what he had expected for his colleagues were not there at all \n",
            "but only the terrible old man leaning quietly on his knotted cane and \n",
            "smiling hideously mr czanek had never before noticed the colour of that \n",
            "mans eyes now he saw that they were yellow \n",
            "little things make considerable excitement in little towns which is the \n",
            "reason that kingsport people talked all that spring and summer about the \n",
            "three unidentifiable bodies horribly slashed as with many cutlasses and \n",
            "horribly mangled as by the tread of many cruel bootheels which the tide \n",
            "washed in and some people even spoke of things as trivial as the \n",
            "deserted motorcar found in ship street or certain especially inhuman \n",
            "cries probably of a stray animal or migratory bird heard in the night by \n",
            "wakeful citizens but in this idle village gossip the terrible old man took \n",
            "no interest at all he was by nature reserved and when one is aged and \n",
            "feeble ones reserve is doubly strong besides so ancient a seacaptain \n",
            "must have witnessed scores of things much more stirring in the faroff \n",
            "days of his unremembered youth\n",
            "['', '‘the terrible old man ', 'by h p lovecraft ', 'it was the design of angelo ricci and joe czanek and manuel silva to call ', 'on the terrible old man this old man dwells all alone in a very ancient ', 'house on water street near the sea and is reputed to be both ', 'exceedingly rich and exceedingly feeble which forms a situation very ', 'attractive to men of the profession of messrs ricci czanek and silva for ', 'that profession was nothing less dignified than robbery ', 'the inhabitants of kingsport say and think many things about the terrible ', 'old man which generally keep him safe from the attention of gentlemen ', 'like mr ricci and his colleagues despite the almost certain fact that he ', 'hides a fortune of indefinite magnitude somewhere about his musty and ', 'venerable abode he is in truth a very strange person believed to have ', 'been a captain of east india clipper ships in his day so old that no one ', 'can remember when he was young and so taciturn that few know his real ', 'name among the gnarled trees in the front yard of his aged and ', 'neglected place he maintains a strange collection of large stones oddly ', 'grouped and painted so that they resemble the idols in some obscure ', 'eastern temple this collection frightens away most of the small boys who ', 'love to taunt the terrible old man about his long white hair and beard or ', 'to break the smallpaned windows of his dwelling with wicked missiles ', 'but there are other things which frighten the older and more curious folk ', 'who sometimes steal up to the house to peer in through the dusty panes ', 'these folk say that on a table in a bare room on the ground floor are ', 'many peculiar bottles in each a small piece of lead suspended pendulum', 'wise from a string and they say that the terrible old man talks to these ', 'bottles addressing them by such names as jack scarface long tom ', 'spanish joe peters and mate ellis and that whenever he speaks to a ', 'bottle the little lead pendulum within makes certain definite vibrations as ', 'if in answer ', 'those who have watched the tall lean terrible old man in these peculiar ', 'conversations do not watch him again but angelo ricci and joe czanek ', 'and manuel silva were not of kingsport blood they were of that new and ', 'heterogeneous alien stock which lies outside the charmed circle of new ', 'england life and traditions and they saw in the terrible old man merely a ', 'tottering almost helpless greybeard who could not walk without the aid ', 'of his knotted cane and whose thin weak hands shook pitifully they ', 'were really quite sorry in their way for the lonely unpopular old fellow ', 'whom everybody shunned and at whom all the dogs barked singularly ', 'but business is business and to a robber whose soul is in his profession ', 'there is a lure and a challenge about a very old and very feeble man who ', 'has no account at the bank and who pays for his few necessities at the ', 'village store with spanish gold and silver minted two centuries ago ', 'messrs ricci czanek and silva selected the night of april 11th for their ', 'call mr ricci and mr silva were to interview the poor old gentleman ', 'whilst mr czanek waited for them and their presumable metallic burden ', 'with a covered motorcar in ship street by the gate in the tall rear wall ', 'of their hosts grounds desire to avoid needless explanations in case of ', 'unexpected police intrusions prompted these plans for a quiet and ', 'unostentatious departure ', 'as prearranged the three adventurers started out separately in order to ', 'prevent any evilminded suspicions afterward messrs ricci and silva met ', 'in water street by the old mans front gate and although they did not like ', 'the way the moon shone down upon the painted stones through the ', 'budding branches of the gnarled trees they had more important things to ', 'think about than mere idle superstition they feared it might be ', 'unpleasant work making the terrible old man loquacious concerning his ', 'hoarded gold and silver for aged seacaptains are notably stubborn and ', 'perverse still he was very old and very feeble and there were two ', 'visitors messrs ricci and silva were experienced in the art of making ', 'unwilling persons voluble and the screams of a weak and exceptionally ', 'venerable man can be easily muffled so they moved up to the one ', 'lighted window and heard the terrible old man talking childishly to his ', 'bottles with pendulums then they donned masks and knocked politely at ', 'the weatherstained oaken door ', 'waiting seemed very long to mr czanek as he fidgeted restlessly in the ', 'covered motorcar by the terrible old mans back gate in ship street he ', 'was more than ordinarily tenderhearted and he did not like the hideous ', 'screams he had heard in the ancient house just after the hour appointed ', 'for the deed had he not told his colleagues to be as gentle as possible ', 'with the pathetic old seacaptain? very nervously he watched that narrow ', 'oaken gate in the high and ivyclad stone wall frequently he consulted ', 'his watch and wondered at the delay had the old man died before ', 'revealing where his treasure was hidden and had a thorough search ', 'become necessary? mr czanek did not like to wait so long in the dark in ', 'such a place then he sensed a soft tread or tapping on the walk inside ', 'the gate heard a gentle fumbling at the rusty latch and saw the narrow ', 'heavy door swing inward and in the pallid glow of the single dim street', 'lamp he strained his eyes to see what his colleagues had brought out of ', 'that sinister house which loomed so close behind but when he looked he ', 'did not see what he had expected for his colleagues were not there at all ', 'but only the terrible old man leaning quietly on his knotted cane and ', 'smiling hideously mr czanek had never before noticed the colour of that ', 'mans eyes now he saw that they were yellow ', 'little things make considerable excitement in little towns which is the ', 'reason that kingsport people talked all that spring and summer about the ', 'three unidentifiable bodies horribly slashed as with many cutlasses and ', 'horribly mangled as by the tread of many cruel bootheels which the tide ', 'washed in and some people even spoke of things as trivial as the ', 'deserted motorcar found in ship street or certain especially inhuman ', 'cries probably of a stray animal or migratory bird heard in the night by ', 'wakeful citizens but in this idle village gossip the terrible old man took ', 'no interest at all he was by nature reserved and when one is aged and ', 'feeble ones reserve is doubly strong besides so ancient a seacaptain ', 'must have witnessed scores of things much more stirring in the faroff ', 'days of his unremembered youth']\n"
          ]
        }
      ],
      "source": [
        "# cleaning the data\n",
        "lower_data = story_data.lower()           # Converting the string to lower case to get uniformity\n",
        "\n",
        "split_data = lower_data.splitlines()      # Splitting the data to get every line seperately but this will give the list of uncleaned data\n",
        "\n",
        "print(split_data)\n",
        "\n",
        "final = ''                                # initiating a argument with blank string to hold the values of final cleaned data\n",
        "\n",
        "for line in split_data:\n",
        "  line = clean_text(line)\n",
        "  final += '\\n' + line\n",
        "\n",
        "print(final)\n",
        "\n",
        "final_data = final.split('\\n')       # splitting again to get list of cleaned and splitted data ready to be processed\n",
        "print(final_data)"
      ]
    },
    {
      "cell_type": "code",
      "execution_count": null,
      "metadata": {
        "id": "3BA78vHv4A_Y"
      },
      "outputs": [],
      "source": [
        "# Instantiating the Tokenizer\n",
        "max_vocab = 1000000\n",
        "tokenizer = Tokenizer(num_words=max_vocab)\n",
        "tokenizer.fit_on_texts(final_data)"
      ]
    },
    {
      "cell_type": "code",
      "execution_count": null,
      "metadata": {
        "colab": {
          "base_uri": "https://localhost:8080/"
        },
        "id": "LX35eLsYC0Wo",
        "outputId": "485f4961-448a-475f-e27d-33ae07c11ded"
      },
      "outputs": [
        {
          "output_type": "stream",
          "name": "stdout",
          "text": [
            "507\n",
            "{'the': 1, 'and': 2, 'in': 3, 'of': 4, 'a': 5, 'old': 6, 'to': 7, 'his': 8, 'he': 9, 'man': 10, 'that': 11, 'terrible': 12, 'they': 13, 'as': 14, 'very': 15, 'for': 16, 'not': 17, 'by': 18, 'ricci': 19, 'czanek': 20, 'is': 21, 'were': 22, 'at': 23, 'had': 24, 'was': 25, 'silva': 26, 'which': 27, 'mr': 28, 'so': 29, 'on': 30, 'street': 31, 'things': 32, 'about': 33, 'who': 34, 'with': 35, 'but': 36, 'all': 37, 'gate': 38, 'house': 39, 'be': 40, 'feeble': 41, 'messrs': 42, 'many': 43, 'like': 44, 'colleagues': 45, 'long': 46, 'or': 47, 'there': 48, 'more': 49, 'these': 50, 'their': 51, 'did': 52, 'heard': 53, 'joe': 54, 'this': 55, 'ancient': 56, 'profession': 57, 'than': 58, 'kingsport': 59, 'say': 60, 'certain': 61, 'have': 62, 'no': 63, 'one': 64, 'when': 65, 'aged': 66, 'are': 67, 'bottles': 68, 'little': 69, 'saw': 70, 'motorcar': 71, 'ship': 72, 'mans': 73, 'it': 74, 'angelo': 75, 'manuel': 76, 'call': 77, 'water': 78, 'exceedingly': 79, 'think': 80, 'him': 81, 'from': 82, 'almost': 83, 'venerable': 84, 'strange': 85, 'can': 86, 'few': 87, 'gnarled': 88, 'trees': 89, 'front': 90, 'place': 91, 'collection': 92, 'stones': 93, 'painted': 94, 'some': 95, 'small': 96, 'folk': 97, 'up': 98, 'through': 99, 'peculiar': 100, 'lead': 101, 'pendulum': 102, 'them': 103, 'such': 104, 'spanish': 105, 'watched': 106, 'tall': 107, 'watch': 108, 'new': 109, 'walk': 110, 'knotted': 111, 'cane': 112, 'whose': 113, 'weak': 114, 'way': 115, 'whom': 116, 'business': 117, 'village': 118, 'gold': 119, 'silver': 120, 'two': 121, 'night': 122, 'covered': 123, 'wall': 124, 'three': 125, 'out': 126, 'idle': 127, 'making': 128, 'screams': 129, 'then': 130, 'oaken': 131, 'door': 132, 'gentle': 133, 'seacaptain': 134, 'narrow': 135, 'before': 136, 'tread': 137, 'eyes': 138, 'see': 139, 'what': 140, 'people': 141, 'horribly': 142, '‘the': 143, 'h': 144, 'p': 145, 'lovecraft': 146, 'design': 147, 'dwells': 148, 'alone': 149, 'near': 150, 'sea': 151, 'reputed': 152, 'both': 153, 'rich': 154, 'forms': 155, 'situation': 156, 'attractive': 157, 'men': 158, 'nothing': 159, 'less': 160, 'dignified': 161, 'robbery': 162, 'inhabitants': 163, 'generally': 164, 'keep': 165, 'safe': 166, 'attention': 167, 'gentlemen': 168, 'despite': 169, 'fact': 170, 'hides': 171, 'fortune': 172, 'indefinite': 173, 'magnitude': 174, 'somewhere': 175, 'musty': 176, 'abode': 177, 'truth': 178, 'person': 179, 'believed': 180, 'been': 181, 'captain': 182, 'east': 183, 'india': 184, 'clipper': 185, 'ships': 186, 'day': 187, 'remember': 188, 'young': 189, 'taciturn': 190, 'know': 191, 'real': 192, 'name': 193, 'among': 194, 'yard': 195, 'neglected': 196, 'maintains': 197, 'large': 198, 'oddly': 199, 'grouped': 200, 'resemble': 201, 'idols': 202, 'obscure': 203, 'eastern': 204, 'temple': 205, 'frightens': 206, 'away': 207, 'most': 208, 'boys': 209, 'love': 210, 'taunt': 211, 'white': 212, 'hair': 213, 'beard': 214, 'break': 215, 'smallpaned': 216, 'windows': 217, 'dwelling': 218, 'wicked': 219, 'missiles': 220, 'other': 221, 'frighten': 222, 'older': 223, 'curious': 224, 'sometimes': 225, 'steal': 226, 'peer': 227, 'dusty': 228, 'panes': 229, 'table': 230, 'bare': 231, 'room': 232, 'ground': 233, 'floor': 234, 'each': 235, 'piece': 236, 'suspended': 237, 'wise': 238, 'string': 239, 'talks': 240, 'addressing': 241, 'names': 242, 'jack': 243, 'scarface': 244, 'tom': 245, 'peters': 246, 'mate': 247, 'ellis': 248, 'whenever': 249, 'speaks': 250, 'bottle': 251, 'within': 252, 'makes': 253, 'definite': 254, 'vibrations': 255, 'if': 256, 'answer': 257, 'those': 258, 'lean': 259, 'conversations': 260, 'do': 261, 'again': 262, 'blood': 263, 'heterogeneous': 264, 'alien': 265, 'stock': 266, 'lies': 267, 'outside': 268, 'charmed': 269, 'circle': 270, 'england': 271, 'life': 272, 'traditions': 273, 'merely': 274, 'tottering': 275, 'helpless': 276, 'greybeard': 277, 'could': 278, 'without': 279, 'aid': 280, 'thin': 281, 'hands': 282, 'shook': 283, 'pitifully': 284, 'really': 285, 'quite': 286, 'sorry': 287, 'lonely': 288, 'unpopular': 289, 'fellow': 290, 'everybody': 291, 'shunned': 292, 'dogs': 293, 'barked': 294, 'singularly': 295, 'robber': 296, 'soul': 297, 'lure': 298, 'challenge': 299, 'has': 300, 'account': 301, 'bank': 302, 'pays': 303, 'necessities': 304, 'store': 305, 'minted': 306, 'centuries': 307, 'ago': 308, 'selected': 309, 'april': 310, '11th': 311, 'interview': 312, 'poor': 313, 'gentleman': 314, 'whilst': 315, 'waited': 316, 'presumable': 317, 'metallic': 318, 'burden': 319, 'rear': 320, 'hosts': 321, 'grounds': 322, 'desire': 323, 'avoid': 324, 'needless': 325, 'explanations': 326, 'case': 327, 'unexpected': 328, 'police': 329, 'intrusions': 330, 'prompted': 331, 'plans': 332, 'quiet': 333, 'unostentatious': 334, 'departure': 335, 'prearranged': 336, 'adventurers': 337, 'started': 338, 'separately': 339, 'order': 340, 'prevent': 341, 'any': 342, 'evilminded': 343, 'suspicions': 344, 'afterward': 345, 'met': 346, 'although': 347, 'moon': 348, 'shone': 349, 'down': 350, 'upon': 351, 'budding': 352, 'branches': 353, 'important': 354, 'mere': 355, 'superstition': 356, 'feared': 357, 'might': 358, 'unpleasant': 359, 'work': 360, 'loquacious': 361, 'concerning': 362, 'hoarded': 363, 'seacaptains': 364, 'notably': 365, 'stubborn': 366, 'perverse': 367, 'still': 368, 'visitors': 369, 'experienced': 370, 'art': 371, 'unwilling': 372, 'persons': 373, 'voluble': 374, 'exceptionally': 375, 'easily': 376, 'muffled': 377, 'moved': 378, 'lighted': 379, 'window': 380, 'talking': 381, 'childishly': 382, 'pendulums': 383, 'donned': 384, 'masks': 385, 'knocked': 386, 'politely': 387, 'weatherstained': 388, 'waiting': 389, 'seemed': 390, 'fidgeted': 391, 'restlessly': 392, 'back': 393, 'ordinarily': 394, 'tenderhearted': 395, 'hideous': 396, 'just': 397, 'after': 398, 'hour': 399, 'appointed': 400, 'deed': 401, 'told': 402, 'possible': 403, 'pathetic': 404, 'nervously': 405, 'high': 406, 'ivyclad': 407, 'stone': 408, 'frequently': 409, 'consulted': 410, 'wondered': 411, 'delay': 412, 'died': 413, 'revealing': 414, 'where': 415, 'treasure': 416, 'hidden': 417, 'thorough': 418, 'search': 419, 'become': 420, 'necessary': 421, 'wait': 422, 'dark': 423, 'sensed': 424, 'soft': 425, 'tapping': 426, 'inside': 427, 'fumbling': 428, 'rusty': 429, 'latch': 430, 'heavy': 431, 'swing': 432, 'inward': 433, 'pallid': 434, 'glow': 435, 'single': 436, 'dim': 437, 'lamp': 438, 'strained': 439, 'brought': 440, 'sinister': 441, 'loomed': 442, 'close': 443, 'behind': 444, 'looked': 445, 'expected': 446, 'only': 447, 'leaning': 448, 'quietly': 449, 'smiling': 450, 'hideously': 451, 'never': 452, 'noticed': 453, 'colour': 454, 'now': 455, 'yellow': 456, 'make': 457, 'considerable': 458, 'excitement': 459, 'towns': 460, 'reason': 461, 'talked': 462, 'spring': 463, 'summer': 464, 'unidentifiable': 465, 'bodies': 466, 'slashed': 467, 'cutlasses': 468, 'mangled': 469, 'cruel': 470, 'bootheels': 471, 'tide': 472, 'washed': 473, 'even': 474, 'spoke': 475, 'trivial': 476, 'deserted': 477, 'found': 478, 'especially': 479, 'inhuman': 480, 'cries': 481, 'probably': 482, 'stray': 483, 'animal': 484, 'migratory': 485, 'bird': 486, 'wakeful': 487, 'citizens': 488, 'gossip': 489, 'took': 490, 'interest': 491, 'nature': 492, 'reserved': 493, 'ones': 494, 'reserve': 495, 'doubly': 496, 'strong': 497, 'besides': 498, 'must': 499, 'witnessed': 500, 'scores': 501, 'much': 502, 'stirring': 503, 'faroff': 504, 'days': 505, 'unremembered': 506, 'youth': 507}\n",
            "508\n"
          ]
        }
      ],
      "source": [
        "# Getting the total number of words of the data.\n",
        "word2idx = tokenizer.word_index\n",
        "print(len(word2idx))\n",
        "print(word2idx)\n",
        "vocab_size = len(word2idx) + 1        # Adding 1 to the vocab_size because the index starts from 1 not 0. This will make it uniform when using it further\n",
        "print(vocab_size)"
      ]
    },
    {
      "cell_type": "markdown",
      "metadata": {
        "id": "X4Nuff29MM3F"
      },
      "source": [
        "## Creating n-gram sequences from the sentences\n"
      ]
    },
    {
      "cell_type": "code",
      "execution_count": null,
      "metadata": {
        "colab": {
          "base_uri": "https://localhost:8080/"
        },
        "id": "n4m_6slXC3XE",
        "outputId": "2906acfa-63c9-4815-8646-64f79b970c30"
      },
      "outputs": [
        {
          "output_type": "stream",
          "name": "stdout",
          "text": [
            "[[143, 12], [143, 12, 6], [143, 12, 6, 10], [18, 144], [18, 144, 145], [18, 144, 145, 146], [74, 25], [74, 25, 1], [74, 25, 1, 147], [74, 25, 1, 147, 4], [74, 25, 1, 147, 4, 75], [74, 25, 1, 147, 4, 75, 19], [74, 25, 1, 147, 4, 75, 19, 2], [74, 25, 1, 147, 4, 75, 19, 2, 54], [74, 25, 1, 147, 4, 75, 19, 2, 54, 20], [74, 25, 1, 147, 4, 75, 19, 2, 54, 20, 2], [74, 25, 1, 147, 4, 75, 19, 2, 54, 20, 2, 76], [74, 25, 1, 147, 4, 75, 19, 2, 54, 20, 2, 76, 26], [74, 25, 1, 147, 4, 75, 19, 2, 54, 20, 2, 76, 26, 7], [74, 25, 1, 147, 4, 75, 19, 2, 54, 20, 2, 76, 26, 7, 77], [30, 1], [30, 1, 12], [30, 1, 12, 6], [30, 1, 12, 6, 10], [30, 1, 12, 6, 10, 55], [30, 1, 12, 6, 10, 55, 6], [30, 1, 12, 6, 10, 55, 6, 10], [30, 1, 12, 6, 10, 55, 6, 10, 148], [30, 1, 12, 6, 10, 55, 6, 10, 148, 37], [30, 1, 12, 6, 10, 55, 6, 10, 148, 37, 149], [30, 1, 12, 6, 10, 55, 6, 10, 148, 37, 149, 3], [30, 1, 12, 6, 10, 55, 6, 10, 148, 37, 149, 3, 5], [30, 1, 12, 6, 10, 55, 6, 10, 148, 37, 149, 3, 5, 15], [30, 1, 12, 6, 10, 55, 6, 10, 148, 37, 149, 3, 5, 15, 56], [39, 30], [39, 30, 78], [39, 30, 78, 31], [39, 30, 78, 31, 150], [39, 30, 78, 31, 150, 1], [39, 30, 78, 31, 150, 1, 151], [39, 30, 78, 31, 150, 1, 151, 2], [39, 30, 78, 31, 150, 1, 151, 2, 21], [39, 30, 78, 31, 150, 1, 151, 2, 21, 152], [39, 30, 78, 31, 150, 1, 151, 2, 21, 152, 7], [39, 30, 78, 31, 150, 1, 151, 2, 21, 152, 7, 40], [39, 30, 78, 31, 150, 1, 151, 2, 21, 152, 7, 40, 153], [79, 154], [79, 154, 2], [79, 154, 2, 79], [79, 154, 2, 79, 41], [79, 154, 2, 79, 41, 27], [79, 154, 2, 79, 41, 27, 155], [79, 154, 2, 79, 41, 27, 155, 5], [79, 154, 2, 79, 41, 27, 155, 5, 156], [79, 154, 2, 79, 41, 27, 155, 5, 156, 15], [157, 7], [157, 7, 158], [157, 7, 158, 4], [157, 7, 158, 4, 1], [157, 7, 158, 4, 1, 57], [157, 7, 158, 4, 1, 57, 4], [157, 7, 158, 4, 1, 57, 4, 42], [157, 7, 158, 4, 1, 57, 4, 42, 19], [157, 7, 158, 4, 1, 57, 4, 42, 19, 20], [157, 7, 158, 4, 1, 57, 4, 42, 19, 20, 2], [157, 7, 158, 4, 1, 57, 4, 42, 19, 20, 2, 26], [157, 7, 158, 4, 1, 57, 4, 42, 19, 20, 2, 26, 16], [11, 57], [11, 57, 25], [11, 57, 25, 159], [11, 57, 25, 159, 160], [11, 57, 25, 159, 160, 161], [11, 57, 25, 159, 160, 161, 58], [11, 57, 25, 159, 160, 161, 58, 162], [1, 163], [1, 163, 4], [1, 163, 4, 59], [1, 163, 4, 59, 60], [1, 163, 4, 59, 60, 2], [1, 163, 4, 59, 60, 2, 80], [1, 163, 4, 59, 60, 2, 80, 43], [1, 163, 4, 59, 60, 2, 80, 43, 32], [1, 163, 4, 59, 60, 2, 80, 43, 32, 33], [1, 163, 4, 59, 60, 2, 80, 43, 32, 33, 1], [1, 163, 4, 59, 60, 2, 80, 43, 32, 33, 1, 12], [6, 10], [6, 10, 27], [6, 10, 27, 164], [6, 10, 27, 164, 165], [6, 10, 27, 164, 165, 81], [6, 10, 27, 164, 165, 81, 166], [6, 10, 27, 164, 165, 81, 166, 82], [6, 10, 27, 164, 165, 81, 166, 82, 1], [6, 10, 27, 164, 165, 81, 166, 82, 1, 167], [6, 10, 27, 164, 165, 81, 166, 82, 1, 167, 4], [6, 10, 27, 164, 165, 81, 166, 82, 1, 167, 4, 168], [44, 28], [44, 28, 19], [44, 28, 19, 2], [44, 28, 19, 2, 8], [44, 28, 19, 2, 8, 45], [44, 28, 19, 2, 8, 45, 169], [44, 28, 19, 2, 8, 45, 169, 1], [44, 28, 19, 2, 8, 45, 169, 1, 83], [44, 28, 19, 2, 8, 45, 169, 1, 83, 61], [44, 28, 19, 2, 8, 45, 169, 1, 83, 61, 170], [44, 28, 19, 2, 8, 45, 169, 1, 83, 61, 170, 11], [44, 28, 19, 2, 8, 45, 169, 1, 83, 61, 170, 11, 9], [171, 5], [171, 5, 172], [171, 5, 172, 4], [171, 5, 172, 4, 173], [171, 5, 172, 4, 173, 174], [171, 5, 172, 4, 173, 174, 175], [171, 5, 172, 4, 173, 174, 175, 33], [171, 5, 172, 4, 173, 174, 175, 33, 8], [171, 5, 172, 4, 173, 174, 175, 33, 8, 176], [171, 5, 172, 4, 173, 174, 175, 33, 8, 176, 2], [84, 177], [84, 177, 9], [84, 177, 9, 21], [84, 177, 9, 21, 3], [84, 177, 9, 21, 3, 178], [84, 177, 9, 21, 3, 178, 5], [84, 177, 9, 21, 3, 178, 5, 15], [84, 177, 9, 21, 3, 178, 5, 15, 85], [84, 177, 9, 21, 3, 178, 5, 15, 85, 179], [84, 177, 9, 21, 3, 178, 5, 15, 85, 179, 180], [84, 177, 9, 21, 3, 178, 5, 15, 85, 179, 180, 7], [84, 177, 9, 21, 3, 178, 5, 15, 85, 179, 180, 7, 62], [181, 5], [181, 5, 182], [181, 5, 182, 4], [181, 5, 182, 4, 183], [181, 5, 182, 4, 183, 184], [181, 5, 182, 4, 183, 184, 185], [181, 5, 182, 4, 183, 184, 185, 186], [181, 5, 182, 4, 183, 184, 185, 186, 3], [181, 5, 182, 4, 183, 184, 185, 186, 3, 8], [181, 5, 182, 4, 183, 184, 185, 186, 3, 8, 187], [181, 5, 182, 4, 183, 184, 185, 186, 3, 8, 187, 29], [181, 5, 182, 4, 183, 184, 185, 186, 3, 8, 187, 29, 6], [181, 5, 182, 4, 183, 184, 185, 186, 3, 8, 187, 29, 6, 11], [181, 5, 182, 4, 183, 184, 185, 186, 3, 8, 187, 29, 6, 11, 63], [181, 5, 182, 4, 183, 184, 185, 186, 3, 8, 187, 29, 6, 11, 63, 64], [86, 188], [86, 188, 65], [86, 188, 65, 9], [86, 188, 65, 9, 25], [86, 188, 65, 9, 25, 189], [86, 188, 65, 9, 25, 189, 2], [86, 188, 65, 9, 25, 189, 2, 29], [86, 188, 65, 9, 25, 189, 2, 29, 190], [86, 188, 65, 9, 25, 189, 2, 29, 190, 11], [86, 188, 65, 9, 25, 189, 2, 29, 190, 11, 87], [86, 188, 65, 9, 25, 189, 2, 29, 190, 11, 87, 191], [86, 188, 65, 9, 25, 189, 2, 29, 190, 11, 87, 191, 8], [86, 188, 65, 9, 25, 189, 2, 29, 190, 11, 87, 191, 8, 192], [193, 194], [193, 194, 1], [193, 194, 1, 88], [193, 194, 1, 88, 89], [193, 194, 1, 88, 89, 3], [193, 194, 1, 88, 89, 3, 1], [193, 194, 1, 88, 89, 3, 1, 90], [193, 194, 1, 88, 89, 3, 1, 90, 195], [193, 194, 1, 88, 89, 3, 1, 90, 195, 4], [193, 194, 1, 88, 89, 3, 1, 90, 195, 4, 8], [193, 194, 1, 88, 89, 3, 1, 90, 195, 4, 8, 66], [193, 194, 1, 88, 89, 3, 1, 90, 195, 4, 8, 66, 2], [196, 91], [196, 91, 9], [196, 91, 9, 197], [196, 91, 9, 197, 5], [196, 91, 9, 197, 5, 85], [196, 91, 9, 197, 5, 85, 92], [196, 91, 9, 197, 5, 85, 92, 4], [196, 91, 9, 197, 5, 85, 92, 4, 198], [196, 91, 9, 197, 5, 85, 92, 4, 198, 93], [196, 91, 9, 197, 5, 85, 92, 4, 198, 93, 199], [200, 2], [200, 2, 94], [200, 2, 94, 29], [200, 2, 94, 29, 11], [200, 2, 94, 29, 11, 13], [200, 2, 94, 29, 11, 13, 201], [200, 2, 94, 29, 11, 13, 201, 1], [200, 2, 94, 29, 11, 13, 201, 1, 202], [200, 2, 94, 29, 11, 13, 201, 1, 202, 3], [200, 2, 94, 29, 11, 13, 201, 1, 202, 3, 95], [200, 2, 94, 29, 11, 13, 201, 1, 202, 3, 95, 203], [204, 205], [204, 205, 55], [204, 205, 55, 92], [204, 205, 55, 92, 206], [204, 205, 55, 92, 206, 207], [204, 205, 55, 92, 206, 207, 208], [204, 205, 55, 92, 206, 207, 208, 4], [204, 205, 55, 92, 206, 207, 208, 4, 1], [204, 205, 55, 92, 206, 207, 208, 4, 1, 96], [204, 205, 55, 92, 206, 207, 208, 4, 1, 96, 209], [204, 205, 55, 92, 206, 207, 208, 4, 1, 96, 209, 34], [210, 7], [210, 7, 211], [210, 7, 211, 1], [210, 7, 211, 1, 12], [210, 7, 211, 1, 12, 6], [210, 7, 211, 1, 12, 6, 10], [210, 7, 211, 1, 12, 6, 10, 33], [210, 7, 211, 1, 12, 6, 10, 33, 8], [210, 7, 211, 1, 12, 6, 10, 33, 8, 46], [210, 7, 211, 1, 12, 6, 10, 33, 8, 46, 212], [210, 7, 211, 1, 12, 6, 10, 33, 8, 46, 212, 213], [210, 7, 211, 1, 12, 6, 10, 33, 8, 46, 212, 213, 2], [210, 7, 211, 1, 12, 6, 10, 33, 8, 46, 212, 213, 2, 214], [210, 7, 211, 1, 12, 6, 10, 33, 8, 46, 212, 213, 2, 214, 47], [7, 215], [7, 215, 1], [7, 215, 1, 216], [7, 215, 1, 216, 217], [7, 215, 1, 216, 217, 4], [7, 215, 1, 216, 217, 4, 8], [7, 215, 1, 216, 217, 4, 8, 218], [7, 215, 1, 216, 217, 4, 8, 218, 35], [7, 215, 1, 216, 217, 4, 8, 218, 35, 219], [7, 215, 1, 216, 217, 4, 8, 218, 35, 219, 220], [36, 48], [36, 48, 67], [36, 48, 67, 221], [36, 48, 67, 221, 32], [36, 48, 67, 221, 32, 27], [36, 48, 67, 221, 32, 27, 222], [36, 48, 67, 221, 32, 27, 222, 1], [36, 48, 67, 221, 32, 27, 222, 1, 223], [36, 48, 67, 221, 32, 27, 222, 1, 223, 2], [36, 48, 67, 221, 32, 27, 222, 1, 223, 2, 49], [36, 48, 67, 221, 32, 27, 222, 1, 223, 2, 49, 224], [36, 48, 67, 221, 32, 27, 222, 1, 223, 2, 49, 224, 97], [34, 225], [34, 225, 226], [34, 225, 226, 98], [34, 225, 226, 98, 7], [34, 225, 226, 98, 7, 1], [34, 225, 226, 98, 7, 1, 39], [34, 225, 226, 98, 7, 1, 39, 7], [34, 225, 226, 98, 7, 1, 39, 7, 227], [34, 225, 226, 98, 7, 1, 39, 7, 227, 3], [34, 225, 226, 98, 7, 1, 39, 7, 227, 3, 99], [34, 225, 226, 98, 7, 1, 39, 7, 227, 3, 99, 1], [34, 225, 226, 98, 7, 1, 39, 7, 227, 3, 99, 1, 228], [34, 225, 226, 98, 7, 1, 39, 7, 227, 3, 99, 1, 228, 229], [50, 97], [50, 97, 60], [50, 97, 60, 11], [50, 97, 60, 11, 30], [50, 97, 60, 11, 30, 5], [50, 97, 60, 11, 30, 5, 230], [50, 97, 60, 11, 30, 5, 230, 3], [50, 97, 60, 11, 30, 5, 230, 3, 5], [50, 97, 60, 11, 30, 5, 230, 3, 5, 231], [50, 97, 60, 11, 30, 5, 230, 3, 5, 231, 232], [50, 97, 60, 11, 30, 5, 230, 3, 5, 231, 232, 30], [50, 97, 60, 11, 30, 5, 230, 3, 5, 231, 232, 30, 1], [50, 97, 60, 11, 30, 5, 230, 3, 5, 231, 232, 30, 1, 233], [50, 97, 60, 11, 30, 5, 230, 3, 5, 231, 232, 30, 1, 233, 234], [50, 97, 60, 11, 30, 5, 230, 3, 5, 231, 232, 30, 1, 233, 234, 67], [43, 100], [43, 100, 68], [43, 100, 68, 3], [43, 100, 68, 3, 235], [43, 100, 68, 3, 235, 5], [43, 100, 68, 3, 235, 5, 96], [43, 100, 68, 3, 235, 5, 96, 236], [43, 100, 68, 3, 235, 5, 96, 236, 4], [43, 100, 68, 3, 235, 5, 96, 236, 4, 101], [43, 100, 68, 3, 235, 5, 96, 236, 4, 101, 237], [43, 100, 68, 3, 235, 5, 96, 236, 4, 101, 237, 102], [238, 82], [238, 82, 5], [238, 82, 5, 239], [238, 82, 5, 239, 2], [238, 82, 5, 239, 2, 13], [238, 82, 5, 239, 2, 13, 60], [238, 82, 5, 239, 2, 13, 60, 11], [238, 82, 5, 239, 2, 13, 60, 11, 1], [238, 82, 5, 239, 2, 13, 60, 11, 1, 12], [238, 82, 5, 239, 2, 13, 60, 11, 1, 12, 6], [238, 82, 5, 239, 2, 13, 60, 11, 1, 12, 6, 10], [238, 82, 5, 239, 2, 13, 60, 11, 1, 12, 6, 10, 240], [238, 82, 5, 239, 2, 13, 60, 11, 1, 12, 6, 10, 240, 7], [238, 82, 5, 239, 2, 13, 60, 11, 1, 12, 6, 10, 240, 7, 50], [68, 241], [68, 241, 103], [68, 241, 103, 18], [68, 241, 103, 18, 104], [68, 241, 103, 18, 104, 242], [68, 241, 103, 18, 104, 242, 14], [68, 241, 103, 18, 104, 242, 14, 243], [68, 241, 103, 18, 104, 242, 14, 243, 244], [68, 241, 103, 18, 104, 242, 14, 243, 244, 46], [68, 241, 103, 18, 104, 242, 14, 243, 244, 46, 245], [105, 54], [105, 54, 246], [105, 54, 246, 2], [105, 54, 246, 2, 247], [105, 54, 246, 2, 247, 248], [105, 54, 246, 2, 247, 248, 2], [105, 54, 246, 2, 247, 248, 2, 11], [105, 54, 246, 2, 247, 248, 2, 11, 249], [105, 54, 246, 2, 247, 248, 2, 11, 249, 9], [105, 54, 246, 2, 247, 248, 2, 11, 249, 9, 250], [105, 54, 246, 2, 247, 248, 2, 11, 249, 9, 250, 7], [105, 54, 246, 2, 247, 248, 2, 11, 249, 9, 250, 7, 5], [251, 1], [251, 1, 69], [251, 1, 69, 101], [251, 1, 69, 101, 102], [251, 1, 69, 101, 102, 252], [251, 1, 69, 101, 102, 252, 253], [251, 1, 69, 101, 102, 252, 253, 61], [251, 1, 69, 101, 102, 252, 253, 61, 254], [251, 1, 69, 101, 102, 252, 253, 61, 254, 255], [251, 1, 69, 101, 102, 252, 253, 61, 254, 255, 14], [256, 3], [256, 3, 257], [258, 34], [258, 34, 62], [258, 34, 62, 106], [258, 34, 62, 106, 1], [258, 34, 62, 106, 1, 107], [258, 34, 62, 106, 1, 107, 259], [258, 34, 62, 106, 1, 107, 259, 12], [258, 34, 62, 106, 1, 107, 259, 12, 6], [258, 34, 62, 106, 1, 107, 259, 12, 6, 10], [258, 34, 62, 106, 1, 107, 259, 12, 6, 10, 3], [258, 34, 62, 106, 1, 107, 259, 12, 6, 10, 3, 50], [258, 34, 62, 106, 1, 107, 259, 12, 6, 10, 3, 50, 100], [260, 261], [260, 261, 17], [260, 261, 17, 108], [260, 261, 17, 108, 81], [260, 261, 17, 108, 81, 262], [260, 261, 17, 108, 81, 262, 36], [260, 261, 17, 108, 81, 262, 36, 75], [260, 261, 17, 108, 81, 262, 36, 75, 19], [260, 261, 17, 108, 81, 262, 36, 75, 19, 2], [260, 261, 17, 108, 81, 262, 36, 75, 19, 2, 54], [260, 261, 17, 108, 81, 262, 36, 75, 19, 2, 54, 20], [2, 76], [2, 76, 26], [2, 76, 26, 22], [2, 76, 26, 22, 17], [2, 76, 26, 22, 17, 4], [2, 76, 26, 22, 17, 4, 59], [2, 76, 26, 22, 17, 4, 59, 263], [2, 76, 26, 22, 17, 4, 59, 263, 13], [2, 76, 26, 22, 17, 4, 59, 263, 13, 22], [2, 76, 26, 22, 17, 4, 59, 263, 13, 22, 4], [2, 76, 26, 22, 17, 4, 59, 263, 13, 22, 4, 11], [2, 76, 26, 22, 17, 4, 59, 263, 13, 22, 4, 11, 109], [2, 76, 26, 22, 17, 4, 59, 263, 13, 22, 4, 11, 109, 2], [264, 265], [264, 265, 266], [264, 265, 266, 27], [264, 265, 266, 27, 267], [264, 265, 266, 27, 267, 268], [264, 265, 266, 27, 267, 268, 1], [264, 265, 266, 27, 267, 268, 1, 269], [264, 265, 266, 27, 267, 268, 1, 269, 270], [264, 265, 266, 27, 267, 268, 1, 269, 270, 4], [264, 265, 266, 27, 267, 268, 1, 269, 270, 4, 109], [271, 272], [271, 272, 2], [271, 272, 2, 273], [271, 272, 2, 273, 2], [271, 272, 2, 273, 2, 13], [271, 272, 2, 273, 2, 13, 70], [271, 272, 2, 273, 2, 13, 70, 3], [271, 272, 2, 273, 2, 13, 70, 3, 1], [271, 272, 2, 273, 2, 13, 70, 3, 1, 12], [271, 272, 2, 273, 2, 13, 70, 3, 1, 12, 6], [271, 272, 2, 273, 2, 13, 70, 3, 1, 12, 6, 10], [271, 272, 2, 273, 2, 13, 70, 3, 1, 12, 6, 10, 274], [271, 272, 2, 273, 2, 13, 70, 3, 1, 12, 6, 10, 274, 5], [275, 83], [275, 83, 276], [275, 83, 276, 277], [275, 83, 276, 277, 34], [275, 83, 276, 277, 34, 278], [275, 83, 276, 277, 34, 278, 17], [275, 83, 276, 277, 34, 278, 17, 110], [275, 83, 276, 277, 34, 278, 17, 110, 279], [275, 83, 276, 277, 34, 278, 17, 110, 279, 1], [275, 83, 276, 277, 34, 278, 17, 110, 279, 1, 280], [4, 8], [4, 8, 111], [4, 8, 111, 112], [4, 8, 111, 112, 2], [4, 8, 111, 112, 2, 113], [4, 8, 111, 112, 2, 113, 281], [4, 8, 111, 112, 2, 113, 281, 114], [4, 8, 111, 112, 2, 113, 281, 114, 282], [4, 8, 111, 112, 2, 113, 281, 114, 282, 283], [4, 8, 111, 112, 2, 113, 281, 114, 282, 283, 284], [4, 8, 111, 112, 2, 113, 281, 114, 282, 283, 284, 13], [22, 285], [22, 285, 286], [22, 285, 286, 287], [22, 285, 286, 287, 3], [22, 285, 286, 287, 3, 51], [22, 285, 286, 287, 3, 51, 115], [22, 285, 286, 287, 3, 51, 115, 16], [22, 285, 286, 287, 3, 51, 115, 16, 1], [22, 285, 286, 287, 3, 51, 115, 16, 1, 288], [22, 285, 286, 287, 3, 51, 115, 16, 1, 288, 289], [22, 285, 286, 287, 3, 51, 115, 16, 1, 288, 289, 6], [22, 285, 286, 287, 3, 51, 115, 16, 1, 288, 289, 6, 290], [116, 291], [116, 291, 292], [116, 291, 292, 2], [116, 291, 292, 2, 23], [116, 291, 292, 2, 23, 116], [116, 291, 292, 2, 23, 116, 37], [116, 291, 292, 2, 23, 116, 37, 1], [116, 291, 292, 2, 23, 116, 37, 1, 293], [116, 291, 292, 2, 23, 116, 37, 1, 293, 294], [116, 291, 292, 2, 23, 116, 37, 1, 293, 294, 295], [36, 117], [36, 117, 21], [36, 117, 21, 117], [36, 117, 21, 117, 2], [36, 117, 21, 117, 2, 7], [36, 117, 21, 117, 2, 7, 5], [36, 117, 21, 117, 2, 7, 5, 296], [36, 117, 21, 117, 2, 7, 5, 296, 113], [36, 117, 21, 117, 2, 7, 5, 296, 113, 297], [36, 117, 21, 117, 2, 7, 5, 296, 113, 297, 21], [36, 117, 21, 117, 2, 7, 5, 296, 113, 297, 21, 3], [36, 117, 21, 117, 2, 7, 5, 296, 113, 297, 21, 3, 8], [36, 117, 21, 117, 2, 7, 5, 296, 113, 297, 21, 3, 8, 57], [48, 21], [48, 21, 5], [48, 21, 5, 298], [48, 21, 5, 298, 2], [48, 21, 5, 298, 2, 5], [48, 21, 5, 298, 2, 5, 299], [48, 21, 5, 298, 2, 5, 299, 33], [48, 21, 5, 298, 2, 5, 299, 33, 5], [48, 21, 5, 298, 2, 5, 299, 33, 5, 15], [48, 21, 5, 298, 2, 5, 299, 33, 5, 15, 6], [48, 21, 5, 298, 2, 5, 299, 33, 5, 15, 6, 2], [48, 21, 5, 298, 2, 5, 299, 33, 5, 15, 6, 2, 15], [48, 21, 5, 298, 2, 5, 299, 33, 5, 15, 6, 2, 15, 41], [48, 21, 5, 298, 2, 5, 299, 33, 5, 15, 6, 2, 15, 41, 10], [48, 21, 5, 298, 2, 5, 299, 33, 5, 15, 6, 2, 15, 41, 10, 34], [300, 63], [300, 63, 301], [300, 63, 301, 23], [300, 63, 301, 23, 1], [300, 63, 301, 23, 1, 302], [300, 63, 301, 23, 1, 302, 2], [300, 63, 301, 23, 1, 302, 2, 34], [300, 63, 301, 23, 1, 302, 2, 34, 303], [300, 63, 301, 23, 1, 302, 2, 34, 303, 16], [300, 63, 301, 23, 1, 302, 2, 34, 303, 16, 8], [300, 63, 301, 23, 1, 302, 2, 34, 303, 16, 8, 87], [300, 63, 301, 23, 1, 302, 2, 34, 303, 16, 8, 87, 304], [300, 63, 301, 23, 1, 302, 2, 34, 303, 16, 8, 87, 304, 23], [300, 63, 301, 23, 1, 302, 2, 34, 303, 16, 8, 87, 304, 23, 1], [118, 305], [118, 305, 35], [118, 305, 35, 105], [118, 305, 35, 105, 119], [118, 305, 35, 105, 119, 2], [118, 305, 35, 105, 119, 2, 120], [118, 305, 35, 105, 119, 2, 120, 306], [118, 305, 35, 105, 119, 2, 120, 306, 121], [118, 305, 35, 105, 119, 2, 120, 306, 121, 307], [118, 305, 35, 105, 119, 2, 120, 306, 121, 307, 308], [42, 19], [42, 19, 20], [42, 19, 20, 2], [42, 19, 20, 2, 26], [42, 19, 20, 2, 26, 309], [42, 19, 20, 2, 26, 309, 1], [42, 19, 20, 2, 26, 309, 1, 122], [42, 19, 20, 2, 26, 309, 1, 122, 4], [42, 19, 20, 2, 26, 309, 1, 122, 4, 310], [42, 19, 20, 2, 26, 309, 1, 122, 4, 310, 311], [42, 19, 20, 2, 26, 309, 1, 122, 4, 310, 311, 16], [42, 19, 20, 2, 26, 309, 1, 122, 4, 310, 311, 16, 51], [77, 28], [77, 28, 19], [77, 28, 19, 2], [77, 28, 19, 2, 28], [77, 28, 19, 2, 28, 26], [77, 28, 19, 2, 28, 26, 22], [77, 28, 19, 2, 28, 26, 22, 7], [77, 28, 19, 2, 28, 26, 22, 7, 312], [77, 28, 19, 2, 28, 26, 22, 7, 312, 1], [77, 28, 19, 2, 28, 26, 22, 7, 312, 1, 313], [77, 28, 19, 2, 28, 26, 22, 7, 312, 1, 313, 6], [77, 28, 19, 2, 28, 26, 22, 7, 312, 1, 313, 6, 314], [315, 28], [315, 28, 20], [315, 28, 20, 316], [315, 28, 20, 316, 16], [315, 28, 20, 316, 16, 103], [315, 28, 20, 316, 16, 103, 2], [315, 28, 20, 316, 16, 103, 2, 51], [315, 28, 20, 316, 16, 103, 2, 51, 317], [315, 28, 20, 316, 16, 103, 2, 51, 317, 318], [315, 28, 20, 316, 16, 103, 2, 51, 317, 318, 319], [35, 5], [35, 5, 123], [35, 5, 123, 71], [35, 5, 123, 71, 3], [35, 5, 123, 71, 3, 72], [35, 5, 123, 71, 3, 72, 31], [35, 5, 123, 71, 3, 72, 31, 18], [35, 5, 123, 71, 3, 72, 31, 18, 1], [35, 5, 123, 71, 3, 72, 31, 18, 1, 38], [35, 5, 123, 71, 3, 72, 31, 18, 1, 38, 3], [35, 5, 123, 71, 3, 72, 31, 18, 1, 38, 3, 1], [35, 5, 123, 71, 3, 72, 31, 18, 1, 38, 3, 1, 107], [35, 5, 123, 71, 3, 72, 31, 18, 1, 38, 3, 1, 107, 320], [35, 5, 123, 71, 3, 72, 31, 18, 1, 38, 3, 1, 107, 320, 124], [4, 51], [4, 51, 321], [4, 51, 321, 322], [4, 51, 321, 322, 323], [4, 51, 321, 322, 323, 7], [4, 51, 321, 322, 323, 7, 324], [4, 51, 321, 322, 323, 7, 324, 325], [4, 51, 321, 322, 323, 7, 324, 325, 326], [4, 51, 321, 322, 323, 7, 324, 325, 326, 3], [4, 51, 321, 322, 323, 7, 324, 325, 326, 3, 327], [4, 51, 321, 322, 323, 7, 324, 325, 326, 3, 327, 4], [328, 329], [328, 329, 330], [328, 329, 330, 331], [328, 329, 330, 331, 50], [328, 329, 330, 331, 50, 332], [328, 329, 330, 331, 50, 332, 16], [328, 329, 330, 331, 50, 332, 16, 5], [328, 329, 330, 331, 50, 332, 16, 5, 333], [328, 329, 330, 331, 50, 332, 16, 5, 333, 2], [334, 335], [14, 336], [14, 336, 1], [14, 336, 1, 125], [14, 336, 1, 125, 337], [14, 336, 1, 125, 337, 338], [14, 336, 1, 125, 337, 338, 126], [14, 336, 1, 125, 337, 338, 126, 339], [14, 336, 1, 125, 337, 338, 126, 339, 3], [14, 336, 1, 125, 337, 338, 126, 339, 3, 340], [14, 336, 1, 125, 337, 338, 126, 339, 3, 340, 7], [341, 342], [341, 342, 343], [341, 342, 343, 344], [341, 342, 343, 344, 345], [341, 342, 343, 344, 345, 42], [341, 342, 343, 344, 345, 42, 19], [341, 342, 343, 344, 345, 42, 19, 2], [341, 342, 343, 344, 345, 42, 19, 2, 26], [341, 342, 343, 344, 345, 42, 19, 2, 26, 346], [3, 78], [3, 78, 31], [3, 78, 31, 18], [3, 78, 31, 18, 1], [3, 78, 31, 18, 1, 6], [3, 78, 31, 18, 1, 6, 73], [3, 78, 31, 18, 1, 6, 73, 90], [3, 78, 31, 18, 1, 6, 73, 90, 38], [3, 78, 31, 18, 1, 6, 73, 90, 38, 2], [3, 78, 31, 18, 1, 6, 73, 90, 38, 2, 347], [3, 78, 31, 18, 1, 6, 73, 90, 38, 2, 347, 13], [3, 78, 31, 18, 1, 6, 73, 90, 38, 2, 347, 13, 52], [3, 78, 31, 18, 1, 6, 73, 90, 38, 2, 347, 13, 52, 17], [3, 78, 31, 18, 1, 6, 73, 90, 38, 2, 347, 13, 52, 17, 44], [1, 115], [1, 115, 1], [1, 115, 1, 348], [1, 115, 1, 348, 349], [1, 115, 1, 348, 349, 350], [1, 115, 1, 348, 349, 350, 351], [1, 115, 1, 348, 349, 350, 351, 1], [1, 115, 1, 348, 349, 350, 351, 1, 94], [1, 115, 1, 348, 349, 350, 351, 1, 94, 93], [1, 115, 1, 348, 349, 350, 351, 1, 94, 93, 99], [1, 115, 1, 348, 349, 350, 351, 1, 94, 93, 99, 1], [352, 353], [352, 353, 4], [352, 353, 4, 1], [352, 353, 4, 1, 88], [352, 353, 4, 1, 88, 89], [352, 353, 4, 1, 88, 89, 13], [352, 353, 4, 1, 88, 89, 13, 24], [352, 353, 4, 1, 88, 89, 13, 24, 49], [352, 353, 4, 1, 88, 89, 13, 24, 49, 354], [352, 353, 4, 1, 88, 89, 13, 24, 49, 354, 32], [352, 353, 4, 1, 88, 89, 13, 24, 49, 354, 32, 7], [80, 33], [80, 33, 58], [80, 33, 58, 355], [80, 33, 58, 355, 127], [80, 33, 58, 355, 127, 356], [80, 33, 58, 355, 127, 356, 13], [80, 33, 58, 355, 127, 356, 13, 357], [80, 33, 58, 355, 127, 356, 13, 357, 74], [80, 33, 58, 355, 127, 356, 13, 357, 74, 358], [80, 33, 58, 355, 127, 356, 13, 357, 74, 358, 40], [359, 360], [359, 360, 128], [359, 360, 128, 1], [359, 360, 128, 1, 12], [359, 360, 128, 1, 12, 6], [359, 360, 128, 1, 12, 6, 10], [359, 360, 128, 1, 12, 6, 10, 361], [359, 360, 128, 1, 12, 6, 10, 361, 362], [359, 360, 128, 1, 12, 6, 10, 361, 362, 8], [363, 119], [363, 119, 2], [363, 119, 2, 120], [363, 119, 2, 120, 16], [363, 119, 2, 120, 16, 66], [363, 119, 2, 120, 16, 66, 364], [363, 119, 2, 120, 16, 66, 364, 67], [363, 119, 2, 120, 16, 66, 364, 67, 365], [363, 119, 2, 120, 16, 66, 364, 67, 365, 366], [363, 119, 2, 120, 16, 66, 364, 67, 365, 366, 2], [367, 368], [367, 368, 9], [367, 368, 9, 25], [367, 368, 9, 25, 15], [367, 368, 9, 25, 15, 6], [367, 368, 9, 25, 15, 6, 2], [367, 368, 9, 25, 15, 6, 2, 15], [367, 368, 9, 25, 15, 6, 2, 15, 41], [367, 368, 9, 25, 15, 6, 2, 15, 41, 2], [367, 368, 9, 25, 15, 6, 2, 15, 41, 2, 48], [367, 368, 9, 25, 15, 6, 2, 15, 41, 2, 48, 22], [367, 368, 9, 25, 15, 6, 2, 15, 41, 2, 48, 22, 121], [369, 42], [369, 42, 19], [369, 42, 19, 2], [369, 42, 19, 2, 26], [369, 42, 19, 2, 26, 22], [369, 42, 19, 2, 26, 22, 370], [369, 42, 19, 2, 26, 22, 370, 3], [369, 42, 19, 2, 26, 22, 370, 3, 1], [369, 42, 19, 2, 26, 22, 370, 3, 1, 371], [369, 42, 19, 2, 26, 22, 370, 3, 1, 371, 4], [369, 42, 19, 2, 26, 22, 370, 3, 1, 371, 4, 128], [372, 373], [372, 373, 374], [372, 373, 374, 2], [372, 373, 374, 2, 1], [372, 373, 374, 2, 1, 129], [372, 373, 374, 2, 1, 129, 4], [372, 373, 374, 2, 1, 129, 4, 5], [372, 373, 374, 2, 1, 129, 4, 5, 114], [372, 373, 374, 2, 1, 129, 4, 5, 114, 2], [372, 373, 374, 2, 1, 129, 4, 5, 114, 2, 375], [84, 10], [84, 10, 86], [84, 10, 86, 40], [84, 10, 86, 40, 376], [84, 10, 86, 40, 376, 377], [84, 10, 86, 40, 376, 377, 29], [84, 10, 86, 40, 376, 377, 29, 13], [84, 10, 86, 40, 376, 377, 29, 13, 378], [84, 10, 86, 40, 376, 377, 29, 13, 378, 98], [84, 10, 86, 40, 376, 377, 29, 13, 378, 98, 7], [84, 10, 86, 40, 376, 377, 29, 13, 378, 98, 7, 1], [84, 10, 86, 40, 376, 377, 29, 13, 378, 98, 7, 1, 64], [379, 380], [379, 380, 2], [379, 380, 2, 53], [379, 380, 2, 53, 1], [379, 380, 2, 53, 1, 12], [379, 380, 2, 53, 1, 12, 6], [379, 380, 2, 53, 1, 12, 6, 10], [379, 380, 2, 53, 1, 12, 6, 10, 381], [379, 380, 2, 53, 1, 12, 6, 10, 381, 382], [379, 380, 2, 53, 1, 12, 6, 10, 381, 382, 7], [379, 380, 2, 53, 1, 12, 6, 10, 381, 382, 7, 8], [68, 35], [68, 35, 383], [68, 35, 383, 130], [68, 35, 383, 130, 13], [68, 35, 383, 130, 13, 384], [68, 35, 383, 130, 13, 384, 385], [68, 35, 383, 130, 13, 384, 385, 2], [68, 35, 383, 130, 13, 384, 385, 2, 386], [68, 35, 383, 130, 13, 384, 385, 2, 386, 387], [68, 35, 383, 130, 13, 384, 385, 2, 386, 387, 23], [1, 388], [1, 388, 131], [1, 388, 131, 132], [389, 390], [389, 390, 15], [389, 390, 15, 46], [389, 390, 15, 46, 7], [389, 390, 15, 46, 7, 28], [389, 390, 15, 46, 7, 28, 20], [389, 390, 15, 46, 7, 28, 20, 14], [389, 390, 15, 46, 7, 28, 20, 14, 9], [389, 390, 15, 46, 7, 28, 20, 14, 9, 391], [389, 390, 15, 46, 7, 28, 20, 14, 9, 391, 392], [389, 390, 15, 46, 7, 28, 20, 14, 9, 391, 392, 3], [389, 390, 15, 46, 7, 28, 20, 14, 9, 391, 392, 3, 1], [123, 71], [123, 71, 18], [123, 71, 18, 1], [123, 71, 18, 1, 12], [123, 71, 18, 1, 12, 6], [123, 71, 18, 1, 12, 6, 73], [123, 71, 18, 1, 12, 6, 73, 393], [123, 71, 18, 1, 12, 6, 73, 393, 38], [123, 71, 18, 1, 12, 6, 73, 393, 38, 3], [123, 71, 18, 1, 12, 6, 73, 393, 38, 3, 72], [123, 71, 18, 1, 12, 6, 73, 393, 38, 3, 72, 31], [123, 71, 18, 1, 12, 6, 73, 393, 38, 3, 72, 31, 9], [25, 49], [25, 49, 58], [25, 49, 58, 394], [25, 49, 58, 394, 395], [25, 49, 58, 394, 395, 2], [25, 49, 58, 394, 395, 2, 9], [25, 49, 58, 394, 395, 2, 9, 52], [25, 49, 58, 394, 395, 2, 9, 52, 17], [25, 49, 58, 394, 395, 2, 9, 52, 17, 44], [25, 49, 58, 394, 395, 2, 9, 52, 17, 44, 1], [25, 49, 58, 394, 395, 2, 9, 52, 17, 44, 1, 396], [129, 9], [129, 9, 24], [129, 9, 24, 53], [129, 9, 24, 53, 3], [129, 9, 24, 53, 3, 1], [129, 9, 24, 53, 3, 1, 56], [129, 9, 24, 53, 3, 1, 56, 39], [129, 9, 24, 53, 3, 1, 56, 39, 397], [129, 9, 24, 53, 3, 1, 56, 39, 397, 398], [129, 9, 24, 53, 3, 1, 56, 39, 397, 398, 1], [129, 9, 24, 53, 3, 1, 56, 39, 397, 398, 1, 399], [129, 9, 24, 53, 3, 1, 56, 39, 397, 398, 1, 399, 400], [16, 1], [16, 1, 401], [16, 1, 401, 24], [16, 1, 401, 24, 9], [16, 1, 401, 24, 9, 17], [16, 1, 401, 24, 9, 17, 402], [16, 1, 401, 24, 9, 17, 402, 8], [16, 1, 401, 24, 9, 17, 402, 8, 45], [16, 1, 401, 24, 9, 17, 402, 8, 45, 7], [16, 1, 401, 24, 9, 17, 402, 8, 45, 7, 40], [16, 1, 401, 24, 9, 17, 402, 8, 45, 7, 40, 14], [16, 1, 401, 24, 9, 17, 402, 8, 45, 7, 40, 14, 133], [16, 1, 401, 24, 9, 17, 402, 8, 45, 7, 40, 14, 133, 14], [16, 1, 401, 24, 9, 17, 402, 8, 45, 7, 40, 14, 133, 14, 403], [35, 1], [35, 1, 404], [35, 1, 404, 6], [35, 1, 404, 6, 134], [35, 1, 404, 6, 134, 15], [35, 1, 404, 6, 134, 15, 405], [35, 1, 404, 6, 134, 15, 405, 9], [35, 1, 404, 6, 134, 15, 405, 9, 106], [35, 1, 404, 6, 134, 15, 405, 9, 106, 11], [35, 1, 404, 6, 134, 15, 405, 9, 106, 11, 135], [131, 38], [131, 38, 3], [131, 38, 3, 1], [131, 38, 3, 1, 406], [131, 38, 3, 1, 406, 2], [131, 38, 3, 1, 406, 2, 407], [131, 38, 3, 1, 406, 2, 407, 408], [131, 38, 3, 1, 406, 2, 407, 408, 124], [131, 38, 3, 1, 406, 2, 407, 408, 124, 409], [131, 38, 3, 1, 406, 2, 407, 408, 124, 409, 9], [131, 38, 3, 1, 406, 2, 407, 408, 124, 409, 9, 410], [8, 108], [8, 108, 2], [8, 108, 2, 411], [8, 108, 2, 411, 23], [8, 108, 2, 411, 23, 1], [8, 108, 2, 411, 23, 1, 412], [8, 108, 2, 411, 23, 1, 412, 24], [8, 108, 2, 411, 23, 1, 412, 24, 1], [8, 108, 2, 411, 23, 1, 412, 24, 1, 6], [8, 108, 2, 411, 23, 1, 412, 24, 1, 6, 10], [8, 108, 2, 411, 23, 1, 412, 24, 1, 6, 10, 413], [8, 108, 2, 411, 23, 1, 412, 24, 1, 6, 10, 413, 136], [414, 415], [414, 415, 8], [414, 415, 8, 416], [414, 415, 8, 416, 25], [414, 415, 8, 416, 25, 417], [414, 415, 8, 416, 25, 417, 2], [414, 415, 8, 416, 25, 417, 2, 24], [414, 415, 8, 416, 25, 417, 2, 24, 5], [414, 415, 8, 416, 25, 417, 2, 24, 5, 418], [414, 415, 8, 416, 25, 417, 2, 24, 5, 418, 419], [420, 421], [420, 421, 28], [420, 421, 28, 20], [420, 421, 28, 20, 52], [420, 421, 28, 20, 52, 17], [420, 421, 28, 20, 52, 17, 44], [420, 421, 28, 20, 52, 17, 44, 7], [420, 421, 28, 20, 52, 17, 44, 7, 422], [420, 421, 28, 20, 52, 17, 44, 7, 422, 29], [420, 421, 28, 20, 52, 17, 44, 7, 422, 29, 46], [420, 421, 28, 20, 52, 17, 44, 7, 422, 29, 46, 3], [420, 421, 28, 20, 52, 17, 44, 7, 422, 29, 46, 3, 1], [420, 421, 28, 20, 52, 17, 44, 7, 422, 29, 46, 3, 1, 423], [420, 421, 28, 20, 52, 17, 44, 7, 422, 29, 46, 3, 1, 423, 3], [104, 5], [104, 5, 91], [104, 5, 91, 130], [104, 5, 91, 130, 9], [104, 5, 91, 130, 9, 424], [104, 5, 91, 130, 9, 424, 5], [104, 5, 91, 130, 9, 424, 5, 425], [104, 5, 91, 130, 9, 424, 5, 425, 137], [104, 5, 91, 130, 9, 424, 5, 425, 137, 47], [104, 5, 91, 130, 9, 424, 5, 425, 137, 47, 426], [104, 5, 91, 130, 9, 424, 5, 425, 137, 47, 426, 30], [104, 5, 91, 130, 9, 424, 5, 425, 137, 47, 426, 30, 1], [104, 5, 91, 130, 9, 424, 5, 425, 137, 47, 426, 30, 1, 110], [104, 5, 91, 130, 9, 424, 5, 425, 137, 47, 426, 30, 1, 110, 427], [1, 38], [1, 38, 53], [1, 38, 53, 5], [1, 38, 53, 5, 133], [1, 38, 53, 5, 133, 428], [1, 38, 53, 5, 133, 428, 23], [1, 38, 53, 5, 133, 428, 23, 1], [1, 38, 53, 5, 133, 428, 23, 1, 429], [1, 38, 53, 5, 133, 428, 23, 1, 429, 430], [1, 38, 53, 5, 133, 428, 23, 1, 429, 430, 2], [1, 38, 53, 5, 133, 428, 23, 1, 429, 430, 2, 70], [1, 38, 53, 5, 133, 428, 23, 1, 429, 430, 2, 70, 1], [1, 38, 53, 5, 133, 428, 23, 1, 429, 430, 2, 70, 1, 135], [431, 132], [431, 132, 432], [431, 132, 432, 433], [431, 132, 432, 433, 2], [431, 132, 432, 433, 2, 3], [431, 132, 432, 433, 2, 3, 1], [431, 132, 432, 433, 2, 3, 1, 434], [431, 132, 432, 433, 2, 3, 1, 434, 435], [431, 132, 432, 433, 2, 3, 1, 434, 435, 4], [431, 132, 432, 433, 2, 3, 1, 434, 435, 4, 1], [431, 132, 432, 433, 2, 3, 1, 434, 435, 4, 1, 436], [431, 132, 432, 433, 2, 3, 1, 434, 435, 4, 1, 436, 437], [431, 132, 432, 433, 2, 3, 1, 434, 435, 4, 1, 436, 437, 31], [438, 9], [438, 9, 439], [438, 9, 439, 8], [438, 9, 439, 8, 138], [438, 9, 439, 8, 138, 7], [438, 9, 439, 8, 138, 7, 139], [438, 9, 439, 8, 138, 7, 139, 140], [438, 9, 439, 8, 138, 7, 139, 140, 8], [438, 9, 439, 8, 138, 7, 139, 140, 8, 45], [438, 9, 439, 8, 138, 7, 139, 140, 8, 45, 24], [438, 9, 439, 8, 138, 7, 139, 140, 8, 45, 24, 440], [438, 9, 439, 8, 138, 7, 139, 140, 8, 45, 24, 440, 126], [438, 9, 439, 8, 138, 7, 139, 140, 8, 45, 24, 440, 126, 4], [11, 441], [11, 441, 39], [11, 441, 39, 27], [11, 441, 39, 27, 442], [11, 441, 39, 27, 442, 29], [11, 441, 39, 27, 442, 29, 443], [11, 441, 39, 27, 442, 29, 443, 444], [11, 441, 39, 27, 442, 29, 443, 444, 36], [11, 441, 39, 27, 442, 29, 443, 444, 36, 65], [11, 441, 39, 27, 442, 29, 443, 444, 36, 65, 9], [11, 441, 39, 27, 442, 29, 443, 444, 36, 65, 9, 445], [11, 441, 39, 27, 442, 29, 443, 444, 36, 65, 9, 445, 9], [52, 17], [52, 17, 139], [52, 17, 139, 140], [52, 17, 139, 140, 9], [52, 17, 139, 140, 9, 24], [52, 17, 139, 140, 9, 24, 446], [52, 17, 139, 140, 9, 24, 446, 16], [52, 17, 139, 140, 9, 24, 446, 16, 8], [52, 17, 139, 140, 9, 24, 446, 16, 8, 45], [52, 17, 139, 140, 9, 24, 446, 16, 8, 45, 22], [52, 17, 139, 140, 9, 24, 446, 16, 8, 45, 22, 17], [52, 17, 139, 140, 9, 24, 446, 16, 8, 45, 22, 17, 48], [52, 17, 139, 140, 9, 24, 446, 16, 8, 45, 22, 17, 48, 23], [52, 17, 139, 140, 9, 24, 446, 16, 8, 45, 22, 17, 48, 23, 37], [36, 447], [36, 447, 1], [36, 447, 1, 12], [36, 447, 1, 12, 6], [36, 447, 1, 12, 6, 10], [36, 447, 1, 12, 6, 10, 448], [36, 447, 1, 12, 6, 10, 448, 449], [36, 447, 1, 12, 6, 10, 448, 449, 30], [36, 447, 1, 12, 6, 10, 448, 449, 30, 8], [36, 447, 1, 12, 6, 10, 448, 449, 30, 8, 111], [36, 447, 1, 12, 6, 10, 448, 449, 30, 8, 111, 112], [36, 447, 1, 12, 6, 10, 448, 449, 30, 8, 111, 112, 2], [450, 451], [450, 451, 28], [450, 451, 28, 20], [450, 451, 28, 20, 24], [450, 451, 28, 20, 24, 452], [450, 451, 28, 20, 24, 452, 136], [450, 451, 28, 20, 24, 452, 136, 453], [450, 451, 28, 20, 24, 452, 136, 453, 1], [450, 451, 28, 20, 24, 452, 136, 453, 1, 454], [450, 451, 28, 20, 24, 452, 136, 453, 1, 454, 4], [450, 451, 28, 20, 24, 452, 136, 453, 1, 454, 4, 11], [73, 138], [73, 138, 455], [73, 138, 455, 9], [73, 138, 455, 9, 70], [73, 138, 455, 9, 70, 11], [73, 138, 455, 9, 70, 11, 13], [73, 138, 455, 9, 70, 11, 13, 22], [73, 138, 455, 9, 70, 11, 13, 22, 456], [69, 32], [69, 32, 457], [69, 32, 457, 458], [69, 32, 457, 458, 459], [69, 32, 457, 458, 459, 3], [69, 32, 457, 458, 459, 3, 69], [69, 32, 457, 458, 459, 3, 69, 460], [69, 32, 457, 458, 459, 3, 69, 460, 27], [69, 32, 457, 458, 459, 3, 69, 460, 27, 21], [69, 32, 457, 458, 459, 3, 69, 460, 27, 21, 1], [461, 11], [461, 11, 59], [461, 11, 59, 141], [461, 11, 59, 141, 462], [461, 11, 59, 141, 462, 37], [461, 11, 59, 141, 462, 37, 11], [461, 11, 59, 141, 462, 37, 11, 463], [461, 11, 59, 141, 462, 37, 11, 463, 2], [461, 11, 59, 141, 462, 37, 11, 463, 2, 464], [461, 11, 59, 141, 462, 37, 11, 463, 2, 464, 33], [461, 11, 59, 141, 462, 37, 11, 463, 2, 464, 33, 1], [125, 465], [125, 465, 466], [125, 465, 466, 142], [125, 465, 466, 142, 467], [125, 465, 466, 142, 467, 14], [125, 465, 466, 142, 467, 14, 35], [125, 465, 466, 142, 467, 14, 35, 43], [125, 465, 466, 142, 467, 14, 35, 43, 468], [125, 465, 466, 142, 467, 14, 35, 43, 468, 2], [142, 469], [142, 469, 14], [142, 469, 14, 18], [142, 469, 14, 18, 1], [142, 469, 14, 18, 1, 137], [142, 469, 14, 18, 1, 137, 4], [142, 469, 14, 18, 1, 137, 4, 43], [142, 469, 14, 18, 1, 137, 4, 43, 470], [142, 469, 14, 18, 1, 137, 4, 43, 470, 471], [142, 469, 14, 18, 1, 137, 4, 43, 470, 471, 27], [142, 469, 14, 18, 1, 137, 4, 43, 470, 471, 27, 1], [142, 469, 14, 18, 1, 137, 4, 43, 470, 471, 27, 1, 472], [473, 3], [473, 3, 2], [473, 3, 2, 95], [473, 3, 2, 95, 141], [473, 3, 2, 95, 141, 474], [473, 3, 2, 95, 141, 474, 475], [473, 3, 2, 95, 141, 474, 475, 4], [473, 3, 2, 95, 141, 474, 475, 4, 32], [473, 3, 2, 95, 141, 474, 475, 4, 32, 14], [473, 3, 2, 95, 141, 474, 475, 4, 32, 14, 476], [473, 3, 2, 95, 141, 474, 475, 4, 32, 14, 476, 14], [473, 3, 2, 95, 141, 474, 475, 4, 32, 14, 476, 14, 1], [477, 71], [477, 71, 478], [477, 71, 478, 3], [477, 71, 478, 3, 72], [477, 71, 478, 3, 72, 31], [477, 71, 478, 3, 72, 31, 47], [477, 71, 478, 3, 72, 31, 47, 61], [477, 71, 478, 3, 72, 31, 47, 61, 479], [477, 71, 478, 3, 72, 31, 47, 61, 479, 480], [481, 482], [481, 482, 4], [481, 482, 4, 5], [481, 482, 4, 5, 483], [481, 482, 4, 5, 483, 484], [481, 482, 4, 5, 483, 484, 47], [481, 482, 4, 5, 483, 484, 47, 485], [481, 482, 4, 5, 483, 484, 47, 485, 486], [481, 482, 4, 5, 483, 484, 47, 485, 486, 53], [481, 482, 4, 5, 483, 484, 47, 485, 486, 53, 3], [481, 482, 4, 5, 483, 484, 47, 485, 486, 53, 3, 1], [481, 482, 4, 5, 483, 484, 47, 485, 486, 53, 3, 1, 122], [481, 482, 4, 5, 483, 484, 47, 485, 486, 53, 3, 1, 122, 18], [487, 488], [487, 488, 36], [487, 488, 36, 3], [487, 488, 36, 3, 55], [487, 488, 36, 3, 55, 127], [487, 488, 36, 3, 55, 127, 118], [487, 488, 36, 3, 55, 127, 118, 489], [487, 488, 36, 3, 55, 127, 118, 489, 1], [487, 488, 36, 3, 55, 127, 118, 489, 1, 12], [487, 488, 36, 3, 55, 127, 118, 489, 1, 12, 6], [487, 488, 36, 3, 55, 127, 118, 489, 1, 12, 6, 10], [487, 488, 36, 3, 55, 127, 118, 489, 1, 12, 6, 10, 490], [63, 491], [63, 491, 23], [63, 491, 23, 37], [63, 491, 23, 37, 9], [63, 491, 23, 37, 9, 25], [63, 491, 23, 37, 9, 25, 18], [63, 491, 23, 37, 9, 25, 18, 492], [63, 491, 23, 37, 9, 25, 18, 492, 493], [63, 491, 23, 37, 9, 25, 18, 492, 493, 2], [63, 491, 23, 37, 9, 25, 18, 492, 493, 2, 65], [63, 491, 23, 37, 9, 25, 18, 492, 493, 2, 65, 64], [63, 491, 23, 37, 9, 25, 18, 492, 493, 2, 65, 64, 21], [63, 491, 23, 37, 9, 25, 18, 492, 493, 2, 65, 64, 21, 66], [63, 491, 23, 37, 9, 25, 18, 492, 493, 2, 65, 64, 21, 66, 2], [41, 494], [41, 494, 495], [41, 494, 495, 21], [41, 494, 495, 21, 496], [41, 494, 495, 21, 496, 497], [41, 494, 495, 21, 496, 497, 498], [41, 494, 495, 21, 496, 497, 498, 29], [41, 494, 495, 21, 496, 497, 498, 29, 56], [41, 494, 495, 21, 496, 497, 498, 29, 56, 5], [41, 494, 495, 21, 496, 497, 498, 29, 56, 5, 134], [499, 62], [499, 62, 500], [499, 62, 500, 501], [499, 62, 500, 501, 4], [499, 62, 500, 501, 4, 32], [499, 62, 500, 501, 4, 32, 502], [499, 62, 500, 501, 4, 32, 502, 49], [499, 62, 500, 501, 4, 32, 502, 49, 503], [499, 62, 500, 501, 4, 32, 502, 49, 503, 3], [499, 62, 500, 501, 4, 32, 502, 49, 503, 3, 1], [499, 62, 500, 501, 4, 32, 502, 49, 503, 3, 1, 504], [505, 4], [505, 4, 8], [505, 4, 8, 506], [505, 4, 8, 506, 507]]\n"
          ]
        }
      ],
      "source": [
        "# We will turn the sentences to sequences line by line and create n_gram sequences\n",
        "\n",
        "input_seq = []\n",
        "\n",
        "for line in final_data:\n",
        "  token_list = tokenizer.texts_to_sequences([line])[0]\n",
        "  for i in range(1, len(token_list)):\n",
        "    n_gram_seq = token_list[:i+1]\n",
        "    input_seq.append(n_gram_seq)\n",
        "\n",
        "print(input_seq)"
      ]
    },
    {
      "cell_type": "code",
      "execution_count": null,
      "metadata": {
        "colab": {
          "base_uri": "https://localhost:8080/"
        },
        "id": "gF_3tYcBC8Iy",
        "outputId": "158de8c2-49aa-4f0c-d1e7-5cbcd2565349"
      },
      "outputs": [
        {
          "output_type": "stream",
          "name": "stdout",
          "text": [
            "16\n",
            "[[  0   0   0 ...   0 143  12]\n",
            " [  0   0   0 ... 143  12   6]\n",
            " [  0   0   0 ...  12   6  10]\n",
            " ...\n",
            " [  0   0   0 ... 505   4   8]\n",
            " [  0   0   0 ...   4   8 506]\n",
            " [  0   0   0 ...   8 506 507]]\n"
          ]
        }
      ],
      "source": [
        "# Getting the maximum length of sequence for padding purpose\n",
        "max_seq_length = max(len(x) for x in input_seq)\n",
        "print(max_seq_length)\n",
        "\n",
        "# Padding the sequences and converting them to array\n",
        "input_seq = np.array(pad_sequences(input_seq, maxlen=max_seq_length, padding='pre'))\n",
        "print(input_seq)"
      ]
    },
    {
      "cell_type": "code",
      "execution_count": null,
      "metadata": {
        "colab": {
          "base_uri": "https://localhost:8080/"
        },
        "id": "59O5yXTPC_jb",
        "outputId": "ad092e30-c75f-4288-adf8-6f187bdf86ad"
      },
      "outputs": [
        {
          "output_type": "stream",
          "name": "stdout",
          "text": [
            "xs:  [[  0   0   0 ...   0   0 143]\n",
            " [  0   0   0 ...   0 143  12]\n",
            " [  0   0   0 ... 143  12   6]\n",
            " ...\n",
            " [  0   0   0 ...   0 505   4]\n",
            " [  0   0   0 ... 505   4   8]\n",
            " [  0   0   0 ...   4   8 506]]\n",
            "labels: [ 12   6  10 ...   8 506 507]\n"
          ]
        }
      ],
      "source": [
        "# Taking xs and labels to train the model.\n",
        "\n",
        "xs = input_seq[:, :-1]        # xs contains every word in sentence except the last one because we are using this value to predict the y value\n",
        "labels = input_seq[:, -1]     # labels contains only the last word of the sentence which will help in hot encoding the y value in next step\n",
        "print(\"xs: \",xs)\n",
        "print(\"labels:\",labels)"
      ]
    },
    {
      "cell_type": "code",
      "execution_count": null,
      "metadata": {
        "colab": {
          "base_uri": "https://localhost:8080/"
        },
        "id": "9jOQlkOzDC6h",
        "outputId": "c719d4dc-e227-4fbd-f842-fe2ac4e2be88"
      },
      "outputs": [
        {
          "output_type": "stream",
          "name": "stdout",
          "text": [
            "[[0. 0. 0. ... 0. 0. 0.]\n",
            " [0. 0. 0. ... 0. 0. 0.]\n",
            " [0. 0. 0. ... 0. 0. 0.]\n",
            " ...\n",
            " [0. 0. 0. ... 0. 0. 0.]\n",
            " [0. 0. 0. ... 0. 1. 0.]\n",
            " [0. 0. 0. ... 0. 0. 1.]]\n"
          ]
        }
      ],
      "source": [
        "# The matrix is square matrix of the size of vocab_size. Each row will denote a label and it will have\n",
        "# a single +ve value(i.e 1) for that label and other values will be zero.\n",
        "\n",
        "ys = to_categorical(labels, num_classes=vocab_size)\n",
        "print(ys)"
      ]
    },
    {
      "cell_type": "markdown",
      "metadata": {
        "id": "2TnUv82nSjF8"
      },
      "source": [
        "**Model Development**"
      ]
    },
    {
      "cell_type": "markdown",
      "metadata": {
        "id": "CPlJTNl0Soyd"
      },
      "source": [
        "**LSTM MODEL**"
      ]
    },
    {
      "cell_type": "code",
      "execution_count": null,
      "metadata": {
        "id": "RcJA3TIRDL5J"
      },
      "outputs": [],
      "source": [
        "# Create an LSTM model\n",
        "lstm_model = Sequential()\n",
        "lstm_model.add(Embedding(vocab_size, 124, input_length=max_seq_length-1))\n",
        "lstm_model.add(Dropout(0.2))\n",
        "lstm_model.add(LSTM(520, return_sequences=True))\n",
        "lstm_model.add(Bidirectional(LSTM(340, return_sequences=True)))\n",
        "lstm_model.add(GlobalMaxPooling1D())\n",
        "lstm_model.add(Dense(1024, activation='relu'))\n",
        "lstm_model.add(Dense(vocab_size, activation='softmax'))"
      ]
    },
    {
      "cell_type": "code",
      "execution_count": null,
      "metadata": {
        "colab": {
          "base_uri": "https://localhost:8080/"
        },
        "id": "mJWXbf7cDPea",
        "outputId": "b9d8938d-cc03-4c15-e7c2-011c56f407f9"
      },
      "outputs": [
        {
          "output_type": "stream",
          "name": "stderr",
          "text": [
            "WARNING:absl:`lr` is deprecated in Keras optimizer, please use `learning_rate` or use the legacy optimizer, e.g.,tf.keras.optimizers.legacy.Adam.\n"
          ]
        }
      ],
      "source": [
        "# Compile the LSTM model\n",
        "lstm_model.compile(optimizer=Adam(lr=0.001),\n",
        "                   loss='categorical_crossentropy',\n",
        "                   metrics=['accuracy'])"
      ]
    },
    {
      "cell_type": "code",
      "execution_count": null,
      "metadata": {
        "colab": {
          "base_uri": "https://localhost:8080/"
        },
        "id": "iV_Lw22TEavL",
        "outputId": "c4ae7d4e-1bca-4b6a-e40e-118c6dc63aed"
      },
      "outputs": [
        {
          "output_type": "stream",
          "name": "stdout",
          "text": [
            "Epoch 1/30\n",
            "33/33 [==============================] - 23s 490ms/step - loss: 5.9012 - accuracy: 0.0540\n",
            "Epoch 2/30\n",
            "33/33 [==============================] - 16s 476ms/step - loss: 5.5698 - accuracy: 0.0587\n",
            "Epoch 3/30\n",
            "33/33 [==============================] - 16s 474ms/step - loss: 5.4818 - accuracy: 0.0597\n",
            "Epoch 4/30\n",
            "33/33 [==============================] - 17s 498ms/step - loss: 5.4768 - accuracy: 0.0644\n",
            "Epoch 5/30\n",
            "33/33 [==============================] - 17s 516ms/step - loss: 5.4625 - accuracy: 0.0549\n",
            "Epoch 6/30\n",
            "33/33 [==============================] - 16s 477ms/step - loss: 5.4325 - accuracy: 0.0606\n",
            "Epoch 7/30\n",
            "33/33 [==============================] - 16s 481ms/step - loss: 5.3589 - accuracy: 0.0530\n",
            "Epoch 8/30\n",
            "33/33 [==============================] - 16s 485ms/step - loss: 5.1743 - accuracy: 0.0634\n",
            "Epoch 9/30\n",
            "33/33 [==============================] - 16s 472ms/step - loss: 5.0179 - accuracy: 0.0653\n",
            "Epoch 10/30\n",
            "33/33 [==============================] - 15s 471ms/step - loss: 4.9208 - accuracy: 0.0767\n",
            "Epoch 11/30\n",
            "33/33 [==============================] - 16s 493ms/step - loss: 4.7975 - accuracy: 0.0843\n",
            "Epoch 12/30\n",
            "33/33 [==============================] - 17s 496ms/step - loss: 4.6677 - accuracy: 0.0824\n",
            "Epoch 13/30\n",
            "33/33 [==============================] - 15s 469ms/step - loss: 4.5111 - accuracy: 0.1042\n",
            "Epoch 14/30\n",
            "33/33 [==============================] - 16s 473ms/step - loss: 4.3915 - accuracy: 0.1165\n",
            "Epoch 15/30\n",
            "33/33 [==============================] - 15s 466ms/step - loss: 4.1962 - accuracy: 0.1373\n",
            "Epoch 16/30\n",
            "33/33 [==============================] - 16s 473ms/step - loss: 4.0146 - accuracy: 0.1534\n",
            "Epoch 17/30\n",
            "33/33 [==============================] - 15s 466ms/step - loss: 3.8696 - accuracy: 0.1733\n",
            "Epoch 18/30\n",
            "33/33 [==============================] - 15s 467ms/step - loss: 3.6844 - accuracy: 0.1922\n",
            "Epoch 19/30\n",
            "33/33 [==============================] - 16s 472ms/step - loss: 3.4982 - accuracy: 0.2131\n",
            "Epoch 20/30\n",
            "33/33 [==============================] - 16s 485ms/step - loss: 3.2262 - accuracy: 0.2481\n",
            "Epoch 21/30\n",
            "33/33 [==============================] - 18s 533ms/step - loss: 3.1035 - accuracy: 0.2794\n",
            "Epoch 22/30\n",
            "33/33 [==============================] - 16s 472ms/step - loss: 3.0135 - accuracy: 0.2481\n",
            "Epoch 23/30\n",
            "33/33 [==============================] - 15s 468ms/step - loss: 2.6056 - accuracy: 0.3267\n",
            "Epoch 24/30\n",
            "33/33 [==============================] - 16s 473ms/step - loss: 2.2967 - accuracy: 0.3722\n",
            "Epoch 25/30\n",
            "33/33 [==============================] - 16s 474ms/step - loss: 2.0332 - accuracy: 0.4356\n",
            "Epoch 26/30\n",
            "33/33 [==============================] - 16s 473ms/step - loss: 1.7905 - accuracy: 0.4915\n",
            "Epoch 27/30\n",
            "33/33 [==============================] - 16s 496ms/step - loss: 1.5732 - accuracy: 0.5417\n",
            "Epoch 28/30\n",
            "33/33 [==============================] - 16s 491ms/step - loss: 1.4421 - accuracy: 0.5682\n",
            "Epoch 29/30\n",
            "33/33 [==============================] - 16s 471ms/step - loss: 1.3017 - accuracy: 0.6193\n",
            "Epoch 30/30\n",
            "33/33 [==============================] - 15s 468ms/step - loss: 1.1304 - accuracy: 0.6752\n"
          ]
        }
      ],
      "source": [
        "#Training the LSTM model\n",
        "lstm_history = lstm_model.fit(xs, ys, epochs=30)"
      ]
    },
    {
      "cell_type": "code",
      "execution_count": null,
      "metadata": {
        "colab": {
          "base_uri": "https://localhost:8080/",
          "height": 472
        },
        "id": "y805p9xyEfP_",
        "outputId": "3fb3df4c-c61c-4d7c-a11d-2cb5b490837a"
      },
      "outputs": [
        {
          "output_type": "display_data",
          "data": {
            "text/plain": [
              "<Figure size 640x480 with 1 Axes>"
            ],
            "image/png": "[encoded data removed]"
          },
          "metadata": {}
        }
      ],
      "source": [
        "# Evaluating the LSTM model on accuracy\n",
        "plt.plot(lstm_history.history['accuracy'])\n",
        "plt.title('LSTM Model Accuracy')\n",
        "plt.xlabel('Epoch')\n",
        "plt.ylabel('Accuracy')\n",
        "plt.show()"
      ]
    },
    {
      "cell_type": "code",
      "execution_count": null,
      "metadata": {
        "colab": {
          "base_uri": "https://localhost:8080/"
        },
        "id": "qnPgCMjZEWRn",
        "outputId": "7faf4d3c-dd97-45c2-aaeb-a18864c087b3"
      },
      "outputs": [
        {
          "output_type": "stream",
          "name": "stdout",
          "text": [
            "LSTM Model Accuracy: 0.6751893758773804\n"
          ]
        }
      ],
      "source": [
        "#Accuracy Score\n",
        "print(\"LSTM Model Accuracy:\", lstm_history.history['accuracy'][-1])"
      ]
    },
    {
      "cell_type": "code",
      "execution_count": null,
      "metadata": {
        "colab": {
          "base_uri": "https://localhost:8080/",
          "height": 472
        },
        "id": "OWsYMQGXFzCz",
        "outputId": "32db909d-19a7-4711-dea8-7c550b6b14d4"
      },
      "outputs": [
        {
          "output_type": "display_data",
          "data": {
            "text/plain": [
              "<Figure size 640x480 with 1 Axes>"
            ],
            "image/png": "[encoded data removed]"
          },
          "metadata": {}
        }
      ],
      "source": [
        "# Evaluating the LSTM model on loss\n",
        "plt.plot(lstm_history.history['loss'])\n",
        "plt.title('LSTM Model Loss')\n",
        "plt.xlabel('Epoch')\n",
        "plt.ylabel('Loss')\n",
        "plt.show()"
      ]
    },
    {
      "cell_type": "code",
      "execution_count": null,
      "metadata": {
        "colab": {
          "base_uri": "https://localhost:8080/"
        },
        "id": "DfQcey7VGdIb",
        "outputId": "a0d7ffe0-647a-4740-cd63-7bbd563e5caa"
      },
      "outputs": [
        {
          "output_type": "stream",
          "name": "stdout",
          "text": [
            "LSTM Model Loss: 1.1303950548171997\n"
          ]
        }
      ],
      "source": [
        "#Loss Score\n",
        "print(\"LSTM Model Loss:\", lstm_history.history['loss'][-1])"
      ]
    },
    {
      "cell_type": "code",
      "execution_count": null,
      "metadata": {
        "colab": {
          "base_uri": "https://localhost:8080/"
        },
        "id": "r6loroMsKJhG",
        "outputId": "57ac9c70-46b6-4bd9-a72c-45de4e69964c"
      },
      "outputs": [
        {
          "output_type": "stream",
          "name": "stdout",
          "text": [
            "Model: \"sequential\"\n",
            "_________________________________________________________________\n",
            " Layer (type)                Output Shape              Param #   \n",
            "=================================================================\n",
            " embedding (Embedding)       (None, 15, 124)           62992     \n",
            "                                                                 \n",
            " dropout (Dropout)           (None, 15, 124)           0         \n",
            "                                                                 \n",
            " lstm (LSTM)                 (None, 15, 520)           1341600   \n",
            "                                                                 \n",
            " bidirectional (Bidirection  (None, 15, 680)           2341920   \n",
            " al)                                                             \n",
            "                                                                 \n",
            " global_max_pooling1d (Glob  (None, 680)               0         \n",
            " alMaxPooling1D)                                                 \n",
            "                                                                 \n",
            " dense (Dense)               (None, 1024)              697344    \n",
            "                                                                 \n",
            " dense_1 (Dense)             (None, 508)               520700    \n",
            "                                                                 \n",
            "=================================================================\n",
            "Total params: 4964556 (18.94 MB)\n",
            "Trainable params: 4964556 (18.94 MB)\n",
            "Non-trainable params: 0 (0.00 Byte)\n",
            "_________________________________________________________________\n"
          ]
        }
      ],
      "source": [
        "lstm_model.summary()"
      ]
    },
    {
      "cell_type": "markdown",
      "metadata": {
        "id": "OLUBrLYrSvSB"
      },
      "source": [
        "**GRU MODEL**"
      ]
    },
    {
      "cell_type": "code",
      "execution_count": null,
      "metadata": {
        "id": "xy4UVUIZGNpV"
      },
      "outputs": [],
      "source": [
        "# Create a GRU model\n",
        "gru_model = Sequential()\n",
        "gru_model.add(Embedding(vocab_size, 124, input_length=max_seq_length-1))\n",
        "gru_model.add(Dropout(0.2))\n",
        "gru_model.add(GRU(520, return_sequences=True))\n",
        "gru_model.add(Bidirectional(GRU(340, return_sequences=True)))\n",
        "gru_model.add(GlobalMaxPooling1D())\n",
        "gru_model.add(Dense(1024, activation='relu'))\n",
        "gru_model.add(Dense(vocab_size, activation='softmax'))"
      ]
    },
    {
      "cell_type": "code",
      "execution_count": null,
      "metadata": {
        "colab": {
          "base_uri": "https://localhost:8080/"
        },
        "id": "ZM85dSahGQYu",
        "outputId": "5eee80c4-9815-4ba8-f12a-5b2bb68927cb"
      },
      "outputs": [
        {
          "output_type": "stream",
          "name": "stderr",
          "text": [
            "WARNING:absl:`lr` is deprecated in Keras optimizer, please use `learning_rate` or use the legacy optimizer, e.g.,tf.keras.optimizers.legacy.Adam.\n"
          ]
        }
      ],
      "source": [
        "# Compile the GRU model\n",
        "gru_model.compile(optimizer=Adam(lr=0.001),\n",
        "                  loss='categorical_crossentropy',\n",
        "                  metrics=['accuracy'])"
      ]
    },
    {
      "cell_type": "code",
      "execution_count": null,
      "metadata": {
        "colab": {
          "base_uri": "https://localhost:8080/"
        },
        "id": "8DzcSRzAGUM3",
        "outputId": "d3abca6a-5ff4-4cb0-aad9-a61fee43040c"
      },
      "outputs": [
        {
          "output_type": "stream",
          "name": "stdout",
          "text": [
            "Epoch 1/30\n",
            "33/33 [==============================] - 18s 350ms/step - loss: 5.9685 - accuracy: 0.0634\n",
            "Epoch 2/30\n",
            "33/33 [==============================] - 13s 378ms/step - loss: 5.5506 - accuracy: 0.0587\n",
            "Epoch 3/30\n",
            "33/33 [==============================] - 14s 432ms/step - loss: 5.4749 - accuracy: 0.0625\n",
            "Epoch 4/30\n",
            "33/33 [==============================] - 13s 381ms/step - loss: 5.4094 - accuracy: 0.0559\n",
            "Epoch 5/30\n",
            "33/33 [==============================] - 12s 380ms/step - loss: 5.3303 - accuracy: 0.0559\n",
            "Epoch 6/30\n",
            "33/33 [==============================] - 12s 378ms/step - loss: 5.1456 - accuracy: 0.0653\n",
            "Epoch 7/30\n",
            "33/33 [==============================] - 13s 381ms/step - loss: 4.9174 - accuracy: 0.0729\n",
            "Epoch 8/30\n",
            "33/33 [==============================] - 12s 377ms/step - loss: 4.6787 - accuracy: 0.0956\n",
            "Epoch 9/30\n",
            "33/33 [==============================] - 13s 387ms/step - loss: 4.4515 - accuracy: 0.1080\n",
            "Epoch 10/30\n",
            "33/33 [==============================] - 12s 358ms/step - loss: 4.2328 - accuracy: 0.1345\n",
            "Epoch 11/30\n",
            "33/33 [==============================] - 12s 349ms/step - loss: 3.9846 - accuracy: 0.1525\n",
            "Epoch 12/30\n",
            "33/33 [==============================] - 12s 377ms/step - loss: 3.6713 - accuracy: 0.1960\n",
            "Epoch 13/30\n",
            "33/33 [==============================] - 12s 379ms/step - loss: 3.3144 - accuracy: 0.2216\n",
            "Epoch 14/30\n",
            "33/33 [==============================] - 12s 376ms/step - loss: 2.9376 - accuracy: 0.2566\n",
            "Epoch 15/30\n",
            "33/33 [==============================] - 12s 378ms/step - loss: 2.5342 - accuracy: 0.3229\n",
            "Epoch 16/30\n",
            "33/33 [==============================] - 13s 385ms/step - loss: 2.1210 - accuracy: 0.4062\n",
            "Epoch 17/30\n",
            "33/33 [==============================] - 13s 385ms/step - loss: 1.7675 - accuracy: 0.4830\n",
            "Epoch 18/30\n",
            "33/33 [==============================] - 13s 393ms/step - loss: 1.4471 - accuracy: 0.5568\n",
            "Epoch 19/30\n",
            "33/33 [==============================] - 12s 364ms/step - loss: 1.0469 - accuracy: 0.6676\n",
            "Epoch 20/30\n",
            "33/33 [==============================] - 12s 349ms/step - loss: 0.8368 - accuracy: 0.7386\n",
            "Epoch 21/30\n",
            "33/33 [==============================] - 14s 425ms/step - loss: 0.6556 - accuracy: 0.8011\n",
            "Epoch 22/30\n",
            "33/33 [==============================] - 12s 374ms/step - loss: 0.4762 - accuracy: 0.8636\n",
            "Epoch 23/30\n",
            "33/33 [==============================] - 12s 378ms/step - loss: 0.3662 - accuracy: 0.9006\n",
            "Epoch 24/30\n",
            "33/33 [==============================] - 13s 381ms/step - loss: 0.2997 - accuracy: 0.9223\n",
            "Epoch 25/30\n",
            "33/33 [==============================] - 12s 380ms/step - loss: 0.2510 - accuracy: 0.9233\n",
            "Epoch 26/30\n",
            "33/33 [==============================] - 12s 380ms/step - loss: 0.2267 - accuracy: 0.9451\n",
            "Epoch 27/30\n",
            "33/33 [==============================] - 12s 379ms/step - loss: 0.1812 - accuracy: 0.9508\n",
            "Epoch 28/30\n",
            "33/33 [==============================] - 12s 364ms/step - loss: 0.1381 - accuracy: 0.9659\n",
            "Epoch 29/30\n",
            "33/33 [==============================] - 12s 345ms/step - loss: 0.1252 - accuracy: 0.9735\n",
            "Epoch 30/30\n",
            "33/33 [==============================] - 12s 367ms/step - loss: 0.1058 - accuracy: 0.9763\n"
          ]
        }
      ],
      "source": [
        "# Train the GRU model\n",
        "gru_history = gru_model.fit(xs, ys, epochs=30)"
      ]
    },
    {
      "cell_type": "code",
      "execution_count": null,
      "metadata": {
        "colab": {
          "base_uri": "https://localhost:8080/",
          "height": 472
        },
        "id": "6cNw-WpVGaPF",
        "outputId": "b4b38066-fdb3-4b05-a773-fb9bf332a441"
      },
      "outputs": [
        {
          "output_type": "display_data",
          "data": {
            "text/plain": [
              "<Figure size 640x480 with 1 Axes>"
            ],
            "image/png": "[encoded data removed]"
          },
          "metadata": {}
        }
      ],
      "source": [
        "# Evaluating the GRU model on accuracy\n",
        "plt.plot(gru_history.history['accuracy'])\n",
        "plt.title('GRU Model Accuracy')\n",
        "plt.xlabel('Epoch')\n",
        "plt.ylabel('Accuracy')\n",
        "plt.show()"
      ]
    },
    {
      "cell_type": "code",
      "execution_count": null,
      "metadata": {
        "colab": {
          "base_uri": "https://localhost:8080/"
        },
        "id": "dpGRjzzdF5Dr",
        "outputId": "21adc8fc-f788-49c6-ea96-f1f0fc8678f3"
      },
      "outputs": [
        {
          "output_type": "stream",
          "name": "stdout",
          "text": [
            "GRU Model Accuracy: 0.9763257503509521\n"
          ]
        }
      ],
      "source": [
        "#Accuracy score\n",
        "print(\"GRU Model Accuracy:\", gru_history.history['accuracy'][-1])"
      ]
    },
    {
      "cell_type": "code",
      "execution_count": null,
      "metadata": {
        "colab": {
          "base_uri": "https://localhost:8080/",
          "height": 472
        },
        "id": "3WBXWl9NHlCU",
        "outputId": "0db8fa41-7b7d-4643-e991-ba0501b41223"
      },
      "outputs": [
        {
          "output_type": "display_data",
          "data": {
            "text/plain": [
              "<Figure size 640x480 with 1 Axes>"
            ],
            "image/png": "[encoded data removed]"
          },
          "metadata": {}
        }
      ],
      "source": [
        "# Evaluating the GRU model on loss\n",
        "plt.plot(gru_history.history['loss'])\n",
        "plt.title('GRU Model Loss')\n",
        "plt.xlabel('Epoch')\n",
        "plt.ylabel('Loss')\n",
        "plt.show()"
      ]
    },
    {
      "cell_type": "code",
      "execution_count": null,
      "metadata": {
        "colab": {
          "base_uri": "https://localhost:8080/"
        },
        "id": "06t2eEyEGqs6",
        "outputId": "c4f55b1a-b47a-4fea-c0f3-db7a6127aee7"
      },
      "outputs": [
        {
          "output_type": "stream",
          "name": "stdout",
          "text": [
            "GRU Model Loss: 0.10579653084278107\n"
          ]
        }
      ],
      "source": [
        "#Loss Score\n",
        "print(\"GRU Model Loss:\", gru_history.history['loss'][-1])"
      ]
    },
    {
      "cell_type": "code",
      "execution_count": null,
      "metadata": {
        "colab": {
          "base_uri": "https://localhost:8080/"
        },
        "id": "jTkx8c3FKFUc",
        "outputId": "f344b13b-54e7-4547-8d66-d9850d0486af"
      },
      "outputs": [
        {
          "output_type": "stream",
          "name": "stdout",
          "text": [
            "Model: \"sequential_1\"\n",
            "_________________________________________________________________\n",
            " Layer (type)                Output Shape              Param #   \n",
            "=================================================================\n",
            " embedding_1 (Embedding)     (None, 15, 124)           62992     \n",
            "                                                                 \n",
            " dropout_1 (Dropout)         (None, 15, 124)           0         \n",
            "                                                                 \n",
            " gru (GRU)                   (None, 15, 520)           1007760   \n",
            "                                                                 \n",
            " bidirectional_1 (Bidirecti  (None, 15, 680)           1758480   \n",
            " onal)                                                           \n",
            "                                                                 \n",
            " global_max_pooling1d_1 (Gl  (None, 680)               0         \n",
            " obalMaxPooling1D)                                               \n",
            "                                                                 \n",
            " dense_2 (Dense)             (None, 1024)              697344    \n",
            "                                                                 \n",
            " dense_3 (Dense)             (None, 508)               520700    \n",
            "                                                                 \n",
            "=================================================================\n",
            "Total params: 4047276 (15.44 MB)\n",
            "Trainable params: 4047276 (15.44 MB)\n",
            "Non-trainable params: 0 (0.00 Byte)\n",
            "_________________________________________________________________\n"
          ]
        }
      ],
      "source": [
        "gru_model.summary()"
      ]
    },
    {
      "cell_type": "markdown",
      "metadata": {
        "id": "SKGRPQ0pS2NL"
      },
      "source": [
        "**CNN MODEL**"
      ]
    },
    {
      "cell_type": "code",
      "execution_count": null,
      "metadata": {
        "id": "NYKRtfsvIHPY"
      },
      "outputs": [],
      "source": [
        "# Create a CNN model\n",
        "cnn_model = Sequential()\n",
        "cnn_model.add(Embedding(vocab_size, 124, input_length=max_seq_length-1))\n",
        "cnn_model.add(Dropout(0.2))\n",
        "cnn_model.add(Conv1D(filters=64, kernel_size=3, padding='same', activation='relu'))\n",
        "cnn_model.add(MaxPooling1D(pool_size=2))\n",
        "cnn_model.add(Conv1D(filters=128, kernel_size=3, padding='same', activation='relu'))\n",
        "cnn_model.add(MaxPooling1D(pool_size=2))\n",
        "cnn_model.add(Flatten())\n",
        "cnn_model.add(Dense(1024, activation='relu'))\n",
        "cnn_model.add(Dense(vocab_size, activation='softmax'))"
      ]
    },
    {
      "cell_type": "code",
      "execution_count": null,
      "metadata": {
        "colab": {
          "base_uri": "https://localhost:8080/"
        },
        "id": "SxlDzMVDInim",
        "outputId": "1a22c069-cde7-48b9-a1e0-d26a87d9323f"
      },
      "outputs": [
        {
          "output_type": "stream",
          "name": "stderr",
          "text": [
            "WARNING:absl:`lr` is deprecated in Keras optimizer, please use `learning_rate` or use the legacy optimizer, e.g.,tf.keras.optimizers.legacy.Adam.\n"
          ]
        }
      ],
      "source": [
        "# Compile the CNN model\n",
        "cnn_model.compile(optimizer=Adam(lr=0.001),\n",
        "                  loss='categorical_crossentropy',\n",
        "                  metrics=['accuracy'])"
      ]
    },
    {
      "cell_type": "code",
      "execution_count": null,
      "metadata": {
        "colab": {
          "base_uri": "https://localhost:8080/"
        },
        "id": "6q6EnqSbIpzo",
        "outputId": "2d7ab24c-a906-40de-d827-02d0cba752a5"
      },
      "outputs": [
        {
          "output_type": "stream",
          "name": "stdout",
          "text": [
            "Epoch 1/30\n",
            "33/33 [==============================] - 2s 23ms/step - loss: 5.9310 - accuracy: 0.0455\n",
            "Epoch 2/30\n",
            "33/33 [==============================] - 1s 22ms/step - loss: 5.5192 - accuracy: 0.0578\n",
            "Epoch 3/30\n",
            "33/33 [==============================] - 1s 22ms/step - loss: 5.4332 - accuracy: 0.0634\n",
            "Epoch 4/30\n",
            "33/33 [==============================] - 1s 22ms/step - loss: 5.3620 - accuracy: 0.0606\n",
            "Epoch 5/30\n",
            "33/33 [==============================] - 1s 31ms/step - loss: 5.2664 - accuracy: 0.0634\n",
            "Epoch 6/30\n",
            "33/33 [==============================] - 1s 33ms/step - loss: 5.1209 - accuracy: 0.0672\n",
            "Epoch 7/30\n",
            "33/33 [==============================] - 1s 34ms/step - loss: 4.9815 - accuracy: 0.0663\n",
            "Epoch 8/30\n",
            "33/33 [==============================] - 1s 30ms/step - loss: 4.8083 - accuracy: 0.0739\n",
            "Epoch 9/30\n",
            "33/33 [==============================] - 1s 21ms/step - loss: 4.6296 - accuracy: 0.0843\n",
            "Epoch 10/30\n",
            "33/33 [==============================] - 1s 22ms/step - loss: 4.4596 - accuracy: 0.1089\n",
            "Epoch 11/30\n",
            "33/33 [==============================] - 1s 21ms/step - loss: 4.2527 - accuracy: 0.1174\n",
            "Epoch 12/30\n",
            "33/33 [==============================] - 1s 23ms/step - loss: 4.0090 - accuracy: 0.1430\n",
            "Epoch 13/30\n",
            "33/33 [==============================] - 1s 23ms/step - loss: 3.7450 - accuracy: 0.1828\n",
            "Epoch 14/30\n",
            "33/33 [==============================] - 1s 23ms/step - loss: 3.4711 - accuracy: 0.2045\n",
            "Epoch 15/30\n",
            "33/33 [==============================] - 1s 22ms/step - loss: 3.1526 - accuracy: 0.2841\n",
            "Epoch 16/30\n",
            "33/33 [==============================] - 1s 22ms/step - loss: 2.8473 - accuracy: 0.3371\n",
            "Epoch 17/30\n",
            "33/33 [==============================] - 1s 22ms/step - loss: 2.5173 - accuracy: 0.4053\n",
            "Epoch 18/30\n",
            "33/33 [==============================] - 1s 22ms/step - loss: 2.2012 - accuracy: 0.4858\n",
            "Epoch 19/30\n",
            "33/33 [==============================] - 1s 23ms/step - loss: 1.9364 - accuracy: 0.5294\n",
            "Epoch 20/30\n",
            "33/33 [==============================] - 1s 23ms/step - loss: 1.7256 - accuracy: 0.5900\n",
            "Epoch 21/30\n",
            "33/33 [==============================] - 1s 23ms/step - loss: 1.4920 - accuracy: 0.6288\n",
            "Epoch 22/30\n",
            "33/33 [==============================] - 1s 34ms/step - loss: 1.2766 - accuracy: 0.6979\n",
            "Epoch 23/30\n",
            "33/33 [==============================] - 1s 35ms/step - loss: 1.1405 - accuracy: 0.7150\n",
            "Epoch 24/30\n",
            "33/33 [==============================] - 1s 35ms/step - loss: 1.0402 - accuracy: 0.7462\n",
            "Epoch 25/30\n",
            "33/33 [==============================] - 1s 32ms/step - loss: 0.9455 - accuracy: 0.7737\n",
            "Epoch 26/30\n",
            "33/33 [==============================] - 1s 22ms/step - loss: 0.8132 - accuracy: 0.7992\n",
            "Epoch 27/30\n",
            "33/33 [==============================] - 1s 22ms/step - loss: 0.7276 - accuracy: 0.8134\n",
            "Epoch 28/30\n",
            "33/33 [==============================] - 1s 22ms/step - loss: 0.6653 - accuracy: 0.8286\n",
            "Epoch 29/30\n",
            "33/33 [==============================] - 1s 22ms/step - loss: 0.5681 - accuracy: 0.8561\n",
            "Epoch 30/30\n",
            "33/33 [==============================] - 1s 21ms/step - loss: 0.5167 - accuracy: 0.8703\n"
          ]
        }
      ],
      "source": [
        "# Train the CNN model\n",
        "cnn_history = cnn_model.fit(xs, ys, epochs=30)"
      ]
    },
    {
      "cell_type": "code",
      "execution_count": null,
      "metadata": {
        "colab": {
          "base_uri": "https://localhost:8080/",
          "height": 472
        },
        "id": "bo_kAoIZItgZ",
        "outputId": "d4c06460-cf36-4cbb-971a-c098cdf68ddf"
      },
      "outputs": [
        {
          "output_type": "display_data",
          "data": {
            "text/plain": [
              "<Figure size 640x480 with 1 Axes>"
            ],
            "image/png": "[encoded data removed]"
          },
          "metadata": {}
        }
      ],
      "source": [
        "# Evaluating the CNN model on accuracy\n",
        "plt.plot(cnn_history.history['accuracy'])\n",
        "plt.title('CNN Model Accuracy')\n",
        "plt.xlabel('Epoch')\n",
        "plt.ylabel('Accuracy')\n",
        "plt.show()"
      ]
    },
    {
      "cell_type": "code",
      "execution_count": null,
      "metadata": {
        "colab": {
          "base_uri": "https://localhost:8080/"
        },
        "id": "u1HC3HqRF--K",
        "outputId": "0562999c-a2cd-48e2-b657-d9f6a8b8f0a1"
      },
      "outputs": [
        {
          "output_type": "stream",
          "name": "stdout",
          "text": [
            "CNN Model Accuracy: 0.8702651262283325\n"
          ]
        }
      ],
      "source": [
        "#Accuracy Score\n",
        "print(\"CNN Model Accuracy:\", cnn_history.history['accuracy'][-1])"
      ]
    },
    {
      "cell_type": "code",
      "execution_count": null,
      "metadata": {
        "colab": {
          "base_uri": "https://localhost:8080/",
          "height": 472
        },
        "id": "q_xyb_VkIzz9",
        "outputId": "a7ec8c4c-dab3-447a-852d-6465a9a13a90"
      },
      "outputs": [
        {
          "output_type": "display_data",
          "data": {
            "text/plain": [
              "<Figure size 640x480 with 1 Axes>"
            ],
            "image/png": "[encoded data removed]"
          },
          "metadata": {}
        }
      ],
      "source": [
        "# Evaluating the CNN model on loss\n",
        "plt.plot(cnn_history.history['loss'])\n",
        "plt.title('CNN Model Loss')\n",
        "plt.xlabel('Epoch')\n",
        "plt.ylabel('Loss')\n",
        "plt.show()"
      ]
    },
    {
      "cell_type": "code",
      "execution_count": null,
      "metadata": {
        "colab": {
          "base_uri": "https://localhost:8080/"
        },
        "id": "wZljwUypGysr",
        "outputId": "13e62016-02d4-4d12-86bf-d75770d4b051"
      },
      "outputs": [
        {
          "output_type": "stream",
          "name": "stdout",
          "text": [
            "CNN Model Loss: 0.5167465806007385\n"
          ]
        }
      ],
      "source": [
        "#Loss Score\n",
        "print(\"CNN Model Loss:\", cnn_history.history['loss'][-1])"
      ]
    },
    {
      "cell_type": "code",
      "execution_count": null,
      "metadata": {
        "colab": {
          "base_uri": "https://localhost:8080/"
        },
        "id": "Vb1dpdBfJxUR",
        "outputId": "e62f9e7a-138b-4fab-f958-10d4674de738"
      },
      "outputs": [
        {
          "output_type": "stream",
          "name": "stdout",
          "text": [
            "Model: \"sequential_2\"\n",
            "_________________________________________________________________\n",
            " Layer (type)                Output Shape              Param #   \n",
            "=================================================================\n",
            " embedding_2 (Embedding)     (None, 15, 124)           62992     \n",
            "                                                                 \n",
            " dropout_2 (Dropout)         (None, 15, 124)           0         \n",
            "                                                                 \n",
            " conv1d (Conv1D)             (None, 15, 64)            23872     \n",
            "                                                                 \n",
            " max_pooling1d (MaxPooling1  (None, 7, 64)             0         \n",
            " D)                                                              \n",
            "                                                                 \n",
            " conv1d_1 (Conv1D)           (None, 7, 128)            24704     \n",
            "                                                                 \n",
            " max_pooling1d_1 (MaxPoolin  (None, 3, 128)            0         \n",
            " g1D)                                                            \n",
            "                                                                 \n",
            " flatten (Flatten)           (None, 384)               0         \n",
            "                                                                 \n",
            " dense_4 (Dense)             (None, 1024)              394240    \n",
            "                                                                 \n",
            " dense_5 (Dense)             (None, 508)               520700    \n",
            "                                                                 \n",
            "=================================================================\n",
            "Total params: 1026508 (3.92 MB)\n",
            "Trainable params: 1026508 (3.92 MB)\n",
            "Non-trainable params: 0 (0.00 Byte)\n",
            "_________________________________________________________________\n"
          ]
        }
      ],
      "source": [
        "cnn_model.summary()"
      ]
    },
    {
      "cell_type": "markdown",
      "metadata": {
        "id": "bI7mCp0WR3Q9"
      },
      "source": [
        "**Simple RNN Model**"
      ]
    },
    {
      "cell_type": "code",
      "execution_count": null,
      "metadata": {
        "id": "wsqUtRzn0eTi"
      },
      "outputs": [],
      "source": [
        "simple_rnn_model = Sequential()\n",
        "simple_rnn_model.add(Embedding(vocab_size, 124, input_length=max_seq_length-1))\n",
        "simple_rnn_model.add(Dropout(0.2))\n",
        "simple_rnn_model.add(SimpleRNN(256, return_sequences=True))\n",
        "simple_rnn_model.add(GlobalMaxPooling1D())\n",
        "simple_rnn_model.add(Dense(1024, activation='relu'))\n",
        "simple_rnn_model.add(Dense(vocab_size, activation='softmax'))"
      ]
    },
    {
      "cell_type": "code",
      "execution_count": null,
      "metadata": {
        "colab": {
          "base_uri": "https://localhost:8080/"
        },
        "id": "5ltfgWnS0ePC",
        "outputId": "bd9e6a4b-9f9d-4b3e-ff46-ef3527d1b2ab"
      },
      "outputs": [
        {
          "output_type": "stream",
          "name": "stderr",
          "text": [
            "WARNING:absl:`lr` is deprecated in Keras optimizer, please use `learning_rate` or use the legacy optimizer, e.g.,tf.keras.optimizers.legacy.Adam.\n"
          ]
        }
      ],
      "source": [
        "simple_rnn_model.compile(optimizer=Adam(lr=0.001),\n",
        "                  loss='categorical_crossentropy',\n",
        "                  metrics=['accuracy'])"
      ]
    },
    {
      "cell_type": "code",
      "execution_count": null,
      "metadata": {
        "colab": {
          "base_uri": "https://localhost:8080/"
        },
        "id": "1wIIDTx-0eMX",
        "outputId": "eca85007-9f3d-4e08-82ec-ffab4455602f"
      },
      "outputs": [
        {
          "output_type": "stream",
          "name": "stdout",
          "text": [
            "Epoch 1/30\n",
            "33/33 [==============================] - 2s 31ms/step - loss: 5.9006 - accuracy: 0.0568\n",
            "Epoch 2/30\n",
            "33/33 [==============================] - 1s 31ms/step - loss: 5.5609 - accuracy: 0.0559\n",
            "Epoch 3/30\n",
            "33/33 [==============================] - 1s 30ms/step - loss: 5.5019 - accuracy: 0.0606\n",
            "Epoch 4/30\n",
            "33/33 [==============================] - 1s 32ms/step - loss: 5.4693 - accuracy: 0.0616\n",
            "Epoch 5/30\n",
            "33/33 [==============================] - 2s 48ms/step - loss: 5.4451 - accuracy: 0.0549\n",
            "Epoch 6/30\n",
            "33/33 [==============================] - 2s 52ms/step - loss: 5.4083 - accuracy: 0.0653\n",
            "Epoch 7/30\n",
            "33/33 [==============================] - 1s 35ms/step - loss: 5.3842 - accuracy: 0.0663\n",
            "Epoch 8/30\n",
            "33/33 [==============================] - 1s 30ms/step - loss: 5.2622 - accuracy: 0.0672\n",
            "Epoch 9/30\n",
            "33/33 [==============================] - 1s 31ms/step - loss: 5.1360 - accuracy: 0.0578\n",
            "Epoch 10/30\n",
            "33/33 [==============================] - 1s 31ms/step - loss: 4.9844 - accuracy: 0.0701\n",
            "Epoch 11/30\n",
            "33/33 [==============================] - 1s 31ms/step - loss: 4.8305 - accuracy: 0.0777\n",
            "Epoch 12/30\n",
            "33/33 [==============================] - 1s 30ms/step - loss: 4.7185 - accuracy: 0.0824\n",
            "Epoch 13/30\n",
            "33/33 [==============================] - 1s 31ms/step - loss: 4.6062 - accuracy: 0.1061\n",
            "Epoch 14/30\n",
            "33/33 [==============================] - 1s 30ms/step - loss: 4.4680 - accuracy: 0.1212\n",
            "Epoch 15/30\n",
            "33/33 [==============================] - 1s 30ms/step - loss: 4.3436 - accuracy: 0.1449\n",
            "Epoch 16/30\n",
            "33/33 [==============================] - 1s 30ms/step - loss: 4.1835 - accuracy: 0.1638\n",
            "Epoch 17/30\n",
            "33/33 [==============================] - 2s 47ms/step - loss: 4.0043 - accuracy: 0.1799\n",
            "Epoch 18/30\n",
            "33/33 [==============================] - 2s 49ms/step - loss: 3.8396 - accuracy: 0.2188\n",
            "Epoch 19/30\n",
            "33/33 [==============================] - 1s 42ms/step - loss: 3.6451 - accuracy: 0.2396\n",
            "Epoch 20/30\n",
            "33/33 [==============================] - 1s 31ms/step - loss: 3.4929 - accuracy: 0.2718\n",
            "Epoch 21/30\n",
            "33/33 [==============================] - 1s 31ms/step - loss: 3.2783 - accuracy: 0.2879\n",
            "Epoch 22/30\n",
            "33/33 [==============================] - 1s 31ms/step - loss: 3.0884 - accuracy: 0.3277\n",
            "Epoch 23/30\n",
            "33/33 [==============================] - 1s 31ms/step - loss: 2.8599 - accuracy: 0.3532\n",
            "Epoch 24/30\n",
            "33/33 [==============================] - 1s 31ms/step - loss: 2.6105 - accuracy: 0.4119\n",
            "Epoch 25/30\n",
            "33/33 [==============================] - 1s 31ms/step - loss: 2.3523 - accuracy: 0.4631\n",
            "Epoch 26/30\n",
            "33/33 [==============================] - 1s 31ms/step - loss: 2.0849 - accuracy: 0.5341\n",
            "Epoch 27/30\n",
            "33/33 [==============================] - 1s 31ms/step - loss: 1.8714 - accuracy: 0.5862\n",
            "Epoch 28/30\n",
            "33/33 [==============================] - 1s 31ms/step - loss: 1.7271 - accuracy: 0.6184\n",
            "Epoch 29/30\n",
            "33/33 [==============================] - 1s 45ms/step - loss: 1.4527 - accuracy: 0.7093\n",
            "Epoch 30/30\n",
            "33/33 [==============================] - 2s 49ms/step - loss: 1.1844 - accuracy: 0.7661\n"
          ]
        }
      ],
      "source": [
        "simple_rnn_history = simple_rnn_model.fit(xs, ys, epochs=30)"
      ]
    },
    {
      "cell_type": "code",
      "execution_count": null,
      "metadata": {
        "colab": {
          "base_uri": "https://localhost:8080/",
          "height": 472
        },
        "id": "z3eCXIWB0eKA",
        "outputId": "7e779a7c-afd4-4abf-c20e-9af2317f1451"
      },
      "outputs": [
        {
          "output_type": "display_data",
          "data": {
            "text/plain": [
              "<Figure size 640x480 with 1 Axes>"
            ],
            "image/png": "[encoded data removed]"
          },
          "metadata": {}
        }
      ],
      "source": [
        "# Evaluating the SimpleRNN model on accuracy\n",
        "plt.plot(simple_rnn_history.history['accuracy'])\n",
        "plt.title('SimpleRNN Model Accuracy')\n",
        "plt.xlabel('Epoch')\n",
        "plt.ylabel('Accuracy')\n",
        "plt.show()"
      ]
    },
    {
      "cell_type": "code",
      "execution_count": null,
      "metadata": {
        "colab": {
          "base_uri": "https://localhost:8080/"
        },
        "id": "zDQh-eFZ0eHl",
        "outputId": "ac65fc5c-0b29-4342-9c77-5a100b2d35f2"
      },
      "outputs": [
        {
          "output_type": "stream",
          "name": "stdout",
          "text": [
            "SimpleRNN Model Accuracy: 0.7660984992980957\n"
          ]
        }
      ],
      "source": [
        "#Accuracy Score\n",
        "print(\"SimpleRNN Model Accuracy:\", simple_rnn_history.history['accuracy'][-1])"
      ]
    },
    {
      "cell_type": "code",
      "execution_count": null,
      "metadata": {
        "colab": {
          "base_uri": "https://localhost:8080/",
          "height": 472
        },
        "id": "wgvpPT-t0eFB",
        "outputId": "645ad1b1-a0d1-453a-9afc-214b2c648d5f"
      },
      "outputs": [
        {
          "output_type": "display_data",
          "data": {
            "text/plain": [
              "<Figure size 640x480 with 1 Axes>"
            ],
            "image/png": "[encoded data removed]"
          },
          "metadata": {}
        }
      ],
      "source": [
        "# Evaluating the SimpleRNN model on loss\n",
        "plt.plot(simple_rnn_history.history['loss'])\n",
        "plt.title('SimpleRNN Model Loss')\n",
        "plt.xlabel('Epoch')\n",
        "plt.ylabel('Loss')\n",
        "plt.show()"
      ]
    },
    {
      "cell_type": "code",
      "execution_count": null,
      "metadata": {
        "colab": {
          "base_uri": "https://localhost:8080/"
        },
        "id": "PG8A5OW80eCk",
        "outputId": "30c0aa17-4884-4226-f7aa-cfcad9d4fb32"
      },
      "outputs": [
        {
          "output_type": "stream",
          "name": "stdout",
          "text": [
            "SimpleRNN Model Loss: 1.1844384670257568\n"
          ]
        }
      ],
      "source": [
        "#Loss Score\n",
        "print(\"SimpleRNN Model Loss:\", simple_rnn_history.history['loss'][-1])"
      ]
    },
    {
      "cell_type": "code",
      "execution_count": null,
      "metadata": {
        "colab": {
          "base_uri": "https://localhost:8080/"
        },
        "id": "HqEPbpQmbM5P",
        "outputId": "88cddf82-2475-4980-f955-9231ac6fa1ec"
      },
      "outputs": [
        {
          "output_type": "stream",
          "name": "stdout",
          "text": [
            "Model: \"sequential_3\"\n",
            "_________________________________________________________________\n",
            " Layer (type)                Output Shape              Param #   \n",
            "=================================================================\n",
            " embedding_3 (Embedding)     (None, 15, 124)           62992     \n",
            "                                                                 \n",
            " dropout_3 (Dropout)         (None, 15, 124)           0         \n",
            "                                                                 \n",
            " simple_rnn (SimpleRNN)      (None, 15, 256)           97536     \n",
            "                                                                 \n",
            " global_max_pooling1d_2 (Gl  (None, 256)               0         \n",
            " obalMaxPooling1D)                                               \n",
            "                                                                 \n",
            " dense_6 (Dense)             (None, 1024)              263168    \n",
            "                                                                 \n",
            " dense_7 (Dense)             (None, 508)               520700    \n",
            "                                                                 \n",
            "=================================================================\n",
            "Total params: 944396 (3.60 MB)\n",
            "Trainable params: 944396 (3.60 MB)\n",
            "Non-trainable params: 0 (0.00 Byte)\n",
            "_________________________________________________________________\n"
          ]
        }
      ],
      "source": [
        "simple_rnn_model.summary()"
      ]
    },
    {
      "cell_type": "code",
      "source": [
        "import matplotlib.pyplot as plt\n",
        "\n",
        "# Create a figure and axis\n",
        "fig, ax = plt.subplots(figsize=(8, 6))\n",
        "\n",
        "# Plot the accuracy for each model\n",
        "epochs = range(1, len(lstm_history.history['accuracy']) + 1)\n",
        "ax.plot(epochs, lstm_history.history['accuracy'], label='LSTM')\n",
        "ax.plot(epochs, gru_history.history['accuracy'], label='GRU')\n",
        "ax.plot(epochs, cnn_history.history['accuracy'], label='CNN')\n",
        "ax.plot(epochs, simple_rnn_history.history['accuracy'], label='SimpleRNN')\n",
        "\n",
        "# Add labels and title\n",
        "ax.set_xlabel('Epoch')\n",
        "ax.set_ylabel('Accuracy')\n",
        "ax.set_title('Accuracy of Different Algorithms')\n",
        "\n",
        "# Add legend\n",
        "ax.legend()\n",
        "\n",
        "# Show the plot\n",
        "plt.show()"
      ],
      "metadata": {
        "colab": {
          "base_uri": "https://localhost:8080/",
          "height": 564
        },
        "id": "pOmXSNWOqNaR",
        "outputId": "c8da8f4d-ffa3-4257-ab24-2809164dff33"
      },
      "execution_count": null,
      "outputs": [
        {
          "output_type": "display_data",
          "data": {
            "text/plain": [
              "<Figure size 800x600 with 1 Axes>"
            ],
            "image/png": "[encoded data removed]"
          },
          "metadata": {}
        }
      ]
    },
    {
      "cell_type": "markdown",
      "metadata": {
        "id": "c8qIZ5FTWKdq"
      },
      "source": [
        "**Predictions**"
      ]
    },
    {
      "cell_type": "code",
      "execution_count": null,
      "metadata": {
        "id": "57gDyQVxI1Vm"
      },
      "outputs": [],
      "source": [
        "#Predicting the sentences\n",
        "def predict_words(model, seed, no_words):\n",
        "  for i in range(no_words):\n",
        "    token_list = tokenizer.texts_to_sequences([seed])[0]\n",
        "    token_list = pad_sequences([token_list], maxlen=max_seq_length-1, padding='pre')\n",
        "    predicted = np.argmax(model.predict(token_list), axis=1)\n",
        "\n",
        "    new_word = ''\n",
        "\n",
        "    for word, index in tokenizer.word_index.items():\n",
        "      if predicted == index:\n",
        "        new_word = word\n",
        "        break\n",
        "    seed += \" \" + new_word\n",
        "  print(seed)"
      ]
    },
    {
      "cell_type": "code",
      "execution_count": null,
      "metadata": {
        "colab": {
          "base_uri": "https://localhost:8080/"
        },
        "id": "mC0XEC4BI7Qp",
        "outputId": "222c3552-1954-4a57-c79f-9991b9f5925b"
      },
      "outputs": [
        {
          "output_type": "stream",
          "name": "stdout",
          "text": [
            "LSTM Model:\n",
            "1/1 [==============================] - 0s 60ms/step\n",
            "1/1 [==============================] - 0s 115ms/step\n",
            "1/1 [==============================] - 0s 119ms/step\n",
            "1/1 [==============================] - 0s 134ms/step\n",
            "1/1 [==============================] - 0s 201ms/step\n",
            "1/1 [==============================] - 0s 114ms/step\n",
            "1/1 [==============================] - 0s 179ms/step\n",
            "1/1 [==============================] - 0s 69ms/step\n",
            "1/1 [==============================] - 0s 129ms/step\n",
            "1/1 [==============================] - 0s 113ms/step\n",
            "The old man dwells all alone in a very ancient and no peculiar as to cutlasses\n"
          ]
        }
      ],
      "source": [
        "# Generating sentences using LSTM model\n",
        "print(\"LSTM Model:\")\n",
        "seed_text = 'The old man dwells all alone'\n",
        "next_words = 10\n",
        "predict_words(lstm_model, seed_text, next_words)"
      ]
    },
    {
      "cell_type": "code",
      "execution_count": null,
      "metadata": {
        "colab": {
          "base_uri": "https://localhost:8080/"
        },
        "id": "KlfKABlvI9OT",
        "outputId": "e0690bba-84f7-4802-a911-e8e33ae266e7"
      },
      "outputs": [
        {
          "output_type": "stream",
          "name": "stdout",
          "text": [
            "\n",
            "GRU Model:\n",
            "1/1 [==============================] - 0s 50ms/step\n",
            "1/1 [==============================] - 0s 134ms/step\n",
            "1/1 [==============================] - 0s 56ms/step\n",
            "1/1 [==============================] - 0s 70ms/step\n",
            "1/1 [==============================] - 0s 68ms/step\n",
            "1/1 [==============================] - 0s 54ms/step\n",
            "1/1 [==============================] - 0s 43ms/step\n",
            "1/1 [==============================] - 0s 37ms/step\n",
            "1/1 [==============================] - 0s 34ms/step\n",
            "1/1 [==============================] - 0s 35ms/step\n",
            "Among the gnarled trees they had more out of kingsport blood they were of\n"
          ]
        }
      ],
      "source": [
        "# Generating sentences using GRU model\n",
        "print(\"\\nGRU Model:\")\n",
        "seed_text = 'Among the gnarled trees'\n",
        "next_words = 10\n",
        "predict_words(gru_model, seed_text, next_words)"
      ]
    },
    {
      "cell_type": "code",
      "execution_count": null,
      "metadata": {
        "colab": {
          "base_uri": "https://localhost:8080/"
        },
        "id": "bOSEMMRGJECM",
        "outputId": "759995b8-9c0b-4a65-d643-c01f57ddf849"
      },
      "outputs": [
        {
          "output_type": "stream",
          "name": "stdout",
          "text": [
            "\n",
            "CNN Model:\n",
            "1/1 [==============================] - 0s 147ms/step\n",
            "1/1 [==============================] - 0s 45ms/step\n",
            "1/1 [==============================] - 0s 32ms/step\n",
            "1/1 [==============================] - 0s 35ms/step\n",
            "1/1 [==============================] - 0s 35ms/step\n",
            "Those who have watched the tall lean terrible old man in\n"
          ]
        }
      ],
      "source": [
        "# Generating sentences using CNN model\n",
        "print(\"\\nCNN Model:\")\n",
        "seed_text = 'Those who have watched the tall'\n",
        "next_words = 5\n",
        "predict_words(cnn_model, seed_text, next_words)\n"
      ]
    },
    {
      "cell_type": "code",
      "execution_count": null,
      "metadata": {
        "colab": {
          "base_uri": "https://localhost:8080/"
        },
        "id": "PtBJ65b-RhPv",
        "outputId": "508ea856-8149-440b-efe9-517ff3f2cac1"
      },
      "outputs": [
        {
          "output_type": "stream",
          "name": "stdout",
          "text": [
            "\n",
            "Simple RNN Model:\n",
            "1/1 [==============================] - 0s 169ms/step\n",
            "1/1 [==============================] - 0s 83ms/step\n",
            "1/1 [==============================] - 0s 54ms/step\n",
            "1/1 [==============================] - 0s 118ms/step\n",
            "1/1 [==============================] - 0s 34ms/step\n",
            "1/1 [==============================] - 0s 134ms/step\n",
            "1/1 [==============================] - 0s 132ms/step\n",
            "1/1 [==============================] - 0s 38ms/step\n",
            "1/1 [==============================] - 0s 38ms/step\n",
            "1/1 [==============================] - 0s 37ms/step\n",
            "He was by nature reserved, and when joe is and a exceptionally a who exceptionally\n"
          ]
        }
      ],
      "source": [
        "# Generating sentences using CNN model\n",
        "print(\"\\nSimple RNN Model:\")\n",
        "seed_text = 'He was by nature reserved,'\n",
        "next_words = 10\n",
        "predict_words(simple_rnn_model, seed_text, next_words)"
      ]
    },
    {
      "cell_type": "code",
      "execution_count": null,
      "metadata": {
        "colab": {
          "base_uri": "https://localhost:8080/"
        },
        "id": "jSDUsj-KJHN3",
        "outputId": "f2f14c7f-7ce5-4653-f51c-ba516948c1a4"
      },
      "outputs": [
        {
          "output_type": "stream",
          "name": "stderr",
          "text": [
            "/usr/local/lib/python3.10/dist-packages/keras/src/engine/training.py:3103: UserWarning: You are saving your model as an HDF5 file via `model.save()`. This file format is considered legacy. We recommend using instead the native Keras format, e.g. `model.save('my_model.keras')`.\n",
            "  saving_api.save_model(\n"
          ]
        }
      ],
      "source": [
        "# Saving the models\n",
        "lstm_model.save('lstm_poem_generator.h5')\n",
        "gru_model.save('gru_poem_generator.h5')\n",
        "cnn_model.save('cnn_poem_generator.h5')\n",
        "simple_rnn_model.save('simple_rnn_generator.h5')"
      ]
    },
    {
      "cell_type": "code",
      "execution_count": null,
      "metadata": {
        "id": "HM4FgthvJLhR"
      },
      "outputs": [],
      "source": []
    }
  ],
  "metadata": {
    "colab": {
      "provenance": []
    },
    "kernelspec": {
      "display_name": "Python 3",
      "name": "python3"
    },
    "language_info": {
      "name": "python"
    }
  },
  "nbformat": 4,
  "nbformat_minor": 0
}